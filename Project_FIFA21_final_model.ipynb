{
 "cells": [
  {
   "cell_type": "markdown",
   "id": "996f4af5",
   "metadata": {},
   "source": [
    "Create a Model that Predicts Overall rating of the players."
   ]
  },
  {
   "cell_type": "code",
   "execution_count": 1,
   "id": "41ecfcdd",
   "metadata": {},
   "outputs": [],
   "source": [
    "import pandas as pd\n",
    "import numpy as np\n",
    "from sklearn import linear_model\n",
    "from sklearn.preprocessing import OneHotEncoder\n",
    "from sklearn.preprocessing import MinMaxScaler\n",
    "from sklearn.model_selection import train_test_split\n",
    "from sklearn.metrics import r2_score\n",
    "from sklearn.metrics import mean_squared_error\n",
    "from sklearn.metrics import mean_absolute_error"
   ]
  },
  {
   "cell_type": "code",
   "execution_count": 2,
   "id": "8c537610",
   "metadata": {},
   "outputs": [],
   "source": [
    "\n",
    "data = pd.read_csv('fifa21_train.csv')\n"
   ]
  },
  {
   "cell_type": "markdown",
   "id": "e230bea2",
   "metadata": {},
   "source": [
    "# Rename Columns"
   ]
  },
  {
   "cell_type": "code",
   "execution_count": 3,
   "id": "d906770d",
   "metadata": {},
   "outputs": [],
   "source": [
    "data.columns = data.columns.str.lower().str.replace(' ','_')\n",
    "data.columns = data.columns.str.lower().str.replace('/','_')"
   ]
  },
  {
   "cell_type": "code",
   "execution_count": 4,
   "id": "496f4859",
   "metadata": {},
   "outputs": [],
   "source": [
    "data = data.rename(columns={'bp':'best_position',\n",
    "                            'team_&_contract':'team_contract', \n",
    "                            'w_f':'weak_foot', 'sm': 'skill_moves', 'a_w': 'attacking_work_rate', 'd_w': 'defensive_work_rate', 'ir': 'international_reputation', 'wf': 'weak_foot' })"
   ]
  },
  {
   "cell_type": "markdown",
   "id": "07369ce4",
   "metadata": {},
   "source": [
    "# Checking"
   ]
  },
  {
   "cell_type": "code",
   "execution_count": 5,
   "id": "cc95e1f3",
   "metadata": {},
   "outputs": [],
   "source": [
    "# data.head()\n",
    "# data.columns.tolist()\n",
    "# data1.dtypes.tolist()\n",
    "# data.isna().count().tolist()\n",
    "# data['height']"
   ]
  },
  {
   "cell_type": "markdown",
   "id": "d74d9267",
   "metadata": {},
   "source": [
    "# Decisions.\n",
    "- OVR = ATT + IR (Overal Rating equals attributes and international reputation).\n",
    "\n",
    "- We know that the variables used to calculate OVR are the ones of the **attributes** of the player (crossing, dribbling, positioning, etc.) plus the **international reputation**.\n",
    "\n",
    "- Our categorical column is **\"best position\"**.\n",
    "\n",
    "- We also have to take into account how the OVR changes when the player does not play in its \"best position\".\n",
    "\n",
    "- So we need to use the information of the **last columns as well** (the ones with the information of the players' performance in each postion).\n",
    "\n",
    "- For these columns (the ones with \"+\"), we´re going to keep **the second number**. We think the first number can be calculated from the columns of attributes.\n",
    "\n",
    "- We know some columns are the sum of other columns. We decided to keep just the columns of attributes that are not a summation of other columns.\n",
    "\n",
    "- We cleaned and treated this data and obtained our first model.\n",
    "\n",
    "- We tried to improve our first model.\n",
    "\n",
    "- We built a second model in which we decided to include all of our selected features (without discarding anyone based on correlation numbers).\n",
    "\n",
    "- Then in our third and last model we included a new feature: **\"wage\"**. This gaves us our best results.\n"
   ]
  },
  {
   "cell_type": "markdown",
   "id": "9901a691",
   "metadata": {},
   "source": [
    "# New DF"
   ]
  },
  {
   "cell_type": "markdown",
   "id": "eb1505d7",
   "metadata": {},
   "source": [
    "#### Clean Wage"
   ]
  },
  {
   "cell_type": "code",
   "execution_count": 6,
   "id": "5c7fe171",
   "metadata": {},
   "outputs": [],
   "source": [
    "icon = '€'\n",
    "\n",
    "data['wage'] = data['wage'].str.replace(icon, '')\n",
    "data['wage'] = data['wage'].str.replace('K', '000')\n",
    "\n",
    "data['wage'] = data['wage'].astype('int')"
   ]
  },
  {
   "cell_type": "markdown",
   "id": "0f352e14",
   "metadata": {},
   "source": [
    "#### Divide Columns, Choose Right"
   ]
  },
  {
   "cell_type": "code",
   "execution_count": 7,
   "id": "c73189ef",
   "metadata": {},
   "outputs": [],
   "source": [
    "data_pos = data.loc[:, 'ls':'gk']\n",
    "\n",
    "for col in data_pos.columns:\n",
    "    data_pos[[col, col + '_right']] = data_pos[col].str.split('+', expand=True)\n",
    "\n",
    "# Convertir las columnas resultantes en numéricas\n",
    "data_pos = data_pos.astype(int)\n",
    "\n",
    "data_pos = data_pos.drop(data_pos.loc[:, 'ls':'gk'].columns, axis=1)"
   ]
  },
  {
   "cell_type": "markdown",
   "id": "e54a13ca",
   "metadata": {},
   "source": [
    "#### Drop Columns"
   ]
  },
  {
   "cell_type": "code",
   "execution_count": 8,
   "id": "568eea68",
   "metadata": {},
   "outputs": [],
   "source": [
    "data_att = data.loc[:, 'crossing':'gk_reflexes']\n",
    "data_att = data_att.drop(['skill', 'movement', 'power', 'mentality', 'defending', 'goalkeeping'], axis=1)"
   ]
  },
  {
   "cell_type": "markdown",
   "id": "20f81a00",
   "metadata": {},
   "source": [
    "#### Clean Star"
   ]
  },
  {
   "cell_type": "code",
   "execution_count": 9,
   "id": "e40e6738",
   "metadata": {},
   "outputs": [],
   "source": [
    "icon = '★'\n",
    "\n",
    "data['international_reputation'] = data['international_reputation'].str.replace(icon, '')\n",
    "data['international_reputation'] = data['international_reputation'].str.replace(' ', '')\n",
    "\n",
    "data['international_reputation'] = data['international_reputation'].astype('int')"
   ]
  },
  {
   "cell_type": "markdown",
   "id": "1b0565f7",
   "metadata": {},
   "source": [
    "#### Categorical to Numerical"
   ]
  },
  {
   "cell_type": "code",
   "execution_count": 10,
   "id": "a88298fa",
   "metadata": {},
   "outputs": [],
   "source": [
    "data_cat = pd.DataFrame(data['best_position'])\n",
    "\n",
    "encoder = OneHotEncoder(drop='first').fit(data_cat)\n",
    "encoded = encoder.transform(data_cat).toarray()\n",
    "\n",
    "data_cat = pd.DataFrame(encoded,columns=encoder.get_feature_names_out())"
   ]
  },
  {
   "cell_type": "markdown",
   "id": "f3465405",
   "metadata": {},
   "source": [
    "#### Clean NaN"
   ]
  },
  {
   "cell_type": "code",
   "execution_count": 11,
   "id": "a6573285",
   "metadata": {},
   "outputs": [],
   "source": [
    "# data_att.describe()"
   ]
  },
  {
   "cell_type": "code",
   "execution_count": 12,
   "id": "24aa25d6",
   "metadata": {},
   "outputs": [],
   "source": [
    "for col in data_att.columns:\n",
    "    data_att[col] = data_att[col].fillna(data_att[col].mean())\n",
    "\n",
    "# data_att.describe()"
   ]
  },
  {
   "cell_type": "markdown",
   "id": "e85410f7",
   "metadata": {},
   "source": [
    "#### Concatenate Numerical"
   ]
  },
  {
   "cell_type": "code",
   "execution_count": 13,
   "id": "90892ce8",
   "metadata": {},
   "outputs": [
    {
     "data": {
      "text/plain": [
       "['crossing',\n",
       " 'finishing',\n",
       " 'heading_accuracy',\n",
       " 'short_passing',\n",
       " 'volleys',\n",
       " 'dribbling',\n",
       " 'curve',\n",
       " 'fk_accuracy',\n",
       " 'long_passing',\n",
       " 'ball_control',\n",
       " 'acceleration',\n",
       " 'sprint_speed',\n",
       " 'agility',\n",
       " 'reactions',\n",
       " 'balance',\n",
       " 'shot_power',\n",
       " 'jumping',\n",
       " 'stamina',\n",
       " 'strength',\n",
       " 'long_shots',\n",
       " 'aggression',\n",
       " 'interceptions',\n",
       " 'positioning',\n",
       " 'vision',\n",
       " 'penalties',\n",
       " 'composure',\n",
       " 'marking',\n",
       " 'standing_tackle',\n",
       " 'sliding_tackle',\n",
       " 'gk_diving',\n",
       " 'gk_handling',\n",
       " 'gk_kicking',\n",
       " 'gk_positioning',\n",
       " 'gk_reflexes',\n",
       " 'ls_right',\n",
       " 'st_right',\n",
       " 'rs_right',\n",
       " 'lw_right',\n",
       " 'lf_right',\n",
       " 'cf_right',\n",
       " 'rf_right',\n",
       " 'rw_right',\n",
       " 'lam_right',\n",
       " 'cam_right',\n",
       " 'ram_right',\n",
       " 'lm_right',\n",
       " 'lcm_right',\n",
       " 'cm_right',\n",
       " 'rcm_right',\n",
       " 'rm_right',\n",
       " 'lwb_right',\n",
       " 'ldm_right',\n",
       " 'cdm_right',\n",
       " 'rdm_right',\n",
       " 'rwb_right',\n",
       " 'lb_right',\n",
       " 'lcb_right',\n",
       " 'cb_right',\n",
       " 'rcb_right',\n",
       " 'rb_right',\n",
       " 'gk_right',\n",
       " 'international_reputation',\n",
       " 'wage']"
      ]
     },
     "execution_count": 13,
     "metadata": {},
     "output_type": "execute_result"
    }
   ],
   "source": [
    "data_num = pd.concat([data_att, data_pos, data['international_reputation'], data['wage']], axis=1)\n",
    "data_num.columns.tolist()\n",
    "# data_nor.isna().sum().tolist()"
   ]
  },
  {
   "cell_type": "code",
   "execution_count": 14,
   "id": "263a97af",
   "metadata": {},
   "outputs": [
    {
     "data": {
      "text/plain": [
       "crossing                      int64\n",
       "finishing                     int64\n",
       "heading_accuracy              int64\n",
       "short_passing                 int64\n",
       "volleys                     float64\n",
       "                             ...   \n",
       "rcb_right                     int32\n",
       "rb_right                      int32\n",
       "gk_right                      int32\n",
       "international_reputation      int32\n",
       "wage                          int32\n",
       "Length: 63, dtype: object"
      ]
     },
     "execution_count": 14,
     "metadata": {},
     "output_type": "execute_result"
    }
   ],
   "source": [
    "data_num.dtypes"
   ]
  },
  {
   "cell_type": "markdown",
   "id": "4d2b90d5",
   "metadata": {},
   "source": [
    "# Check Correlation"
   ]
  },
  {
   "cell_type": "code",
   "execution_count": 15,
   "id": "68749db3",
   "metadata": {},
   "outputs": [
    {
     "data": {
      "text/plain": [
       "Index(['ova', 'crossing', 'finishing', 'heading_accuracy', 'short_passing',\n",
       "       'volleys', 'dribbling', 'curve', 'fk_accuracy', 'long_passing',\n",
       "       'ball_control', 'acceleration', 'sprint_speed', 'agility', 'reactions',\n",
       "       'balance', 'shot_power', 'jumping', 'stamina', 'strength', 'long_shots',\n",
       "       'aggression', 'interceptions', 'positioning', 'vision', 'penalties',\n",
       "       'composure', 'marking', 'standing_tackle', 'sliding_tackle',\n",
       "       'gk_diving', 'gk_handling', 'gk_kicking', 'gk_positioning',\n",
       "       'gk_reflexes', 'ls_right', 'st_right', 'rs_right', 'lw_right',\n",
       "       'lf_right', 'cf_right', 'rf_right', 'rw_right', 'lam_right',\n",
       "       'cam_right', 'ram_right', 'lm_right', 'lcm_right', 'cm_right',\n",
       "       'rcm_right', 'rm_right', 'lwb_right', 'ldm_right', 'cdm_right',\n",
       "       'rdm_right', 'rwb_right', 'lb_right', 'lcb_right', 'cb_right',\n",
       "       'rcb_right', 'rb_right', 'gk_right', 'international_reputation',\n",
       "       'wage'],\n",
       "      dtype='object')"
      ]
     },
     "execution_count": 15,
     "metadata": {},
     "output_type": "execute_result"
    }
   ],
   "source": [
    "data1_target = pd.concat([data['ova'], data_num], axis=1)\n",
    "data1_target.dtypes\n",
    "correlation_matrix = data1_target.corr()\n",
    "correlation_matrix.columns"
   ]
  },
  {
   "cell_type": "markdown",
   "id": "b47e55c2",
   "metadata": {},
   "source": [
    "For this model, we don't use correlation figures to discard any of the features."
   ]
  },
  {
   "cell_type": "markdown",
   "id": "880567b0",
   "metadata": {},
   "source": [
    "# Normalize"
   ]
  },
  {
   "cell_type": "code",
   "execution_count": 16,
   "id": "b57b529a",
   "metadata": {},
   "outputs": [
    {
     "data": {
      "text/html": [
       "<div>\n",
       "<style scoped>\n",
       "    .dataframe tbody tr th:only-of-type {\n",
       "        vertical-align: middle;\n",
       "    }\n",
       "\n",
       "    .dataframe tbody tr th {\n",
       "        vertical-align: top;\n",
       "    }\n",
       "\n",
       "    .dataframe thead th {\n",
       "        text-align: right;\n",
       "    }\n",
       "</style>\n",
       "<table border=\"1\" class=\"dataframe\">\n",
       "  <thead>\n",
       "    <tr style=\"text-align: right;\">\n",
       "      <th></th>\n",
       "      <th>crossing</th>\n",
       "      <th>finishing</th>\n",
       "      <th>heading_accuracy</th>\n",
       "      <th>short_passing</th>\n",
       "      <th>volleys</th>\n",
       "      <th>dribbling</th>\n",
       "      <th>curve</th>\n",
       "      <th>fk_accuracy</th>\n",
       "      <th>long_passing</th>\n",
       "      <th>ball_control</th>\n",
       "      <th>...</th>\n",
       "      <th>rdm_right</th>\n",
       "      <th>rwb_right</th>\n",
       "      <th>lb_right</th>\n",
       "      <th>lcb_right</th>\n",
       "      <th>cb_right</th>\n",
       "      <th>rcb_right</th>\n",
       "      <th>rb_right</th>\n",
       "      <th>gk_right</th>\n",
       "      <th>international_reputation</th>\n",
       "      <th>wage</th>\n",
       "    </tr>\n",
       "  </thead>\n",
       "  <tbody>\n",
       "    <tr>\n",
       "      <th>0</th>\n",
       "      <td>0.545455</td>\n",
       "      <td>0.478261</td>\n",
       "      <td>0.431818</td>\n",
       "      <td>0.720930</td>\n",
       "      <td>0.465116</td>\n",
       "      <td>0.615385</td>\n",
       "      <td>0.444444</td>\n",
       "      <td>0.561798</td>\n",
       "      <td>0.642857</td>\n",
       "      <td>0.637363</td>\n",
       "      <td>...</td>\n",
       "      <td>0.750</td>\n",
       "      <td>0.666667</td>\n",
       "      <td>0.666667</td>\n",
       "      <td>0.750</td>\n",
       "      <td>0.750</td>\n",
       "      <td>0.750</td>\n",
       "      <td>0.666667</td>\n",
       "      <td>0.333333</td>\n",
       "      <td>0.00</td>\n",
       "      <td>0.007143</td>\n",
       "    </tr>\n",
       "    <tr>\n",
       "      <th>1</th>\n",
       "      <td>0.681818</td>\n",
       "      <td>0.826087</td>\n",
       "      <td>0.806818</td>\n",
       "      <td>0.697674</td>\n",
       "      <td>0.837209</td>\n",
       "      <td>0.857143</td>\n",
       "      <td>0.822222</td>\n",
       "      <td>0.752809</td>\n",
       "      <td>0.642857</td>\n",
       "      <td>0.813187</td>\n",
       "      <td>...</td>\n",
       "      <td>0.875</td>\n",
       "      <td>0.833333</td>\n",
       "      <td>0.833333</td>\n",
       "      <td>0.875</td>\n",
       "      <td>0.875</td>\n",
       "      <td>0.875</td>\n",
       "      <td>0.833333</td>\n",
       "      <td>0.666667</td>\n",
       "      <td>0.25</td>\n",
       "      <td>0.041071</td>\n",
       "    </tr>\n",
       "    <tr>\n",
       "      <th>2</th>\n",
       "      <td>0.761364</td>\n",
       "      <td>0.793478</td>\n",
       "      <td>0.329545</td>\n",
       "      <td>0.813953</td>\n",
       "      <td>0.825581</td>\n",
       "      <td>0.879121</td>\n",
       "      <td>0.944444</td>\n",
       "      <td>0.966292</td>\n",
       "      <td>0.773810</td>\n",
       "      <td>0.879121</td>\n",
       "      <td>...</td>\n",
       "      <td>0.875</td>\n",
       "      <td>0.833333</td>\n",
       "      <td>0.833333</td>\n",
       "      <td>0.875</td>\n",
       "      <td>0.875</td>\n",
       "      <td>0.875</td>\n",
       "      <td>0.833333</td>\n",
       "      <td>0.666667</td>\n",
       "      <td>0.25</td>\n",
       "      <td>0.087500</td>\n",
       "    </tr>\n",
       "    <tr>\n",
       "      <th>3</th>\n",
       "      <td>0.431818</td>\n",
       "      <td>0.423913</td>\n",
       "      <td>0.602273</td>\n",
       "      <td>0.627907</td>\n",
       "      <td>0.372093</td>\n",
       "      <td>0.538462</td>\n",
       "      <td>0.411111</td>\n",
       "      <td>0.460674</td>\n",
       "      <td>0.571429</td>\n",
       "      <td>0.615385</td>\n",
       "      <td>...</td>\n",
       "      <td>0.875</td>\n",
       "      <td>0.833333</td>\n",
       "      <td>0.833333</td>\n",
       "      <td>0.875</td>\n",
       "      <td>0.875</td>\n",
       "      <td>0.875</td>\n",
       "      <td>0.833333</td>\n",
       "      <td>0.666667</td>\n",
       "      <td>0.00</td>\n",
       "      <td>0.007143</td>\n",
       "    </tr>\n",
       "    <tr>\n",
       "      <th>4</th>\n",
       "      <td>0.488636</td>\n",
       "      <td>0.369565</td>\n",
       "      <td>0.636364</td>\n",
       "      <td>0.697674</td>\n",
       "      <td>0.348837</td>\n",
       "      <td>0.648352</td>\n",
       "      <td>0.444444</td>\n",
       "      <td>0.449438</td>\n",
       "      <td>0.619048</td>\n",
       "      <td>0.670330</td>\n",
       "      <td>...</td>\n",
       "      <td>0.875</td>\n",
       "      <td>0.833333</td>\n",
       "      <td>0.833333</td>\n",
       "      <td>0.875</td>\n",
       "      <td>0.875</td>\n",
       "      <td>0.875</td>\n",
       "      <td>0.833333</td>\n",
       "      <td>0.666667</td>\n",
       "      <td>0.00</td>\n",
       "      <td>0.003571</td>\n",
       "    </tr>\n",
       "    <tr>\n",
       "      <th>...</th>\n",
       "      <td>...</td>\n",
       "      <td>...</td>\n",
       "      <td>...</td>\n",
       "      <td>...</td>\n",
       "      <td>...</td>\n",
       "      <td>...</td>\n",
       "      <td>...</td>\n",
       "      <td>...</td>\n",
       "      <td>...</td>\n",
       "      <td>...</td>\n",
       "      <td>...</td>\n",
       "      <td>...</td>\n",
       "      <td>...</td>\n",
       "      <td>...</td>\n",
       "      <td>...</td>\n",
       "      <td>...</td>\n",
       "      <td>...</td>\n",
       "      <td>...</td>\n",
       "      <td>...</td>\n",
       "      <td>...</td>\n",
       "      <td>...</td>\n",
       "    </tr>\n",
       "    <tr>\n",
       "      <th>11696</th>\n",
       "      <td>0.636364</td>\n",
       "      <td>0.228261</td>\n",
       "      <td>0.522727</td>\n",
       "      <td>0.593023</td>\n",
       "      <td>0.279070</td>\n",
       "      <td>0.571429</td>\n",
       "      <td>0.500000</td>\n",
       "      <td>0.269663</td>\n",
       "      <td>0.535714</td>\n",
       "      <td>0.593407</td>\n",
       "      <td>...</td>\n",
       "      <td>0.875</td>\n",
       "      <td>0.833333</td>\n",
       "      <td>0.833333</td>\n",
       "      <td>0.875</td>\n",
       "      <td>0.875</td>\n",
       "      <td>0.875</td>\n",
       "      <td>0.833333</td>\n",
       "      <td>0.666667</td>\n",
       "      <td>0.00</td>\n",
       "      <td>0.005357</td>\n",
       "    </tr>\n",
       "    <tr>\n",
       "      <th>11697</th>\n",
       "      <td>0.068182</td>\n",
       "      <td>0.119565</td>\n",
       "      <td>0.090909</td>\n",
       "      <td>0.244186</td>\n",
       "      <td>0.139535</td>\n",
       "      <td>0.131868</td>\n",
       "      <td>0.122222</td>\n",
       "      <td>0.157303</td>\n",
       "      <td>0.214286</td>\n",
       "      <td>0.142857</td>\n",
       "      <td>...</td>\n",
       "      <td>0.875</td>\n",
       "      <td>0.833333</td>\n",
       "      <td>0.833333</td>\n",
       "      <td>0.875</td>\n",
       "      <td>0.875</td>\n",
       "      <td>0.875</td>\n",
       "      <td>0.833333</td>\n",
       "      <td>0.666667</td>\n",
       "      <td>0.00</td>\n",
       "      <td>0.007143</td>\n",
       "    </tr>\n",
       "    <tr>\n",
       "      <th>11698</th>\n",
       "      <td>0.659091</td>\n",
       "      <td>0.684783</td>\n",
       "      <td>0.522727</td>\n",
       "      <td>0.651163</td>\n",
       "      <td>0.430233</td>\n",
       "      <td>0.725275</td>\n",
       "      <td>0.588889</td>\n",
       "      <td>0.370787</td>\n",
       "      <td>0.583333</td>\n",
       "      <td>0.681319</td>\n",
       "      <td>...</td>\n",
       "      <td>0.875</td>\n",
       "      <td>0.833333</td>\n",
       "      <td>0.833333</td>\n",
       "      <td>0.875</td>\n",
       "      <td>0.875</td>\n",
       "      <td>0.875</td>\n",
       "      <td>0.833333</td>\n",
       "      <td>0.666667</td>\n",
       "      <td>0.00</td>\n",
       "      <td>0.003571</td>\n",
       "    </tr>\n",
       "    <tr>\n",
       "      <th>11699</th>\n",
       "      <td>0.659091</td>\n",
       "      <td>0.684783</td>\n",
       "      <td>0.522727</td>\n",
       "      <td>0.755814</td>\n",
       "      <td>0.477527</td>\n",
       "      <td>0.758242</td>\n",
       "      <td>0.506865</td>\n",
       "      <td>0.651685</td>\n",
       "      <td>0.750000</td>\n",
       "      <td>0.769231</td>\n",
       "      <td>...</td>\n",
       "      <td>0.625</td>\n",
       "      <td>0.500000</td>\n",
       "      <td>0.500000</td>\n",
       "      <td>0.625</td>\n",
       "      <td>0.625</td>\n",
       "      <td>0.625</td>\n",
       "      <td>0.500000</td>\n",
       "      <td>0.000000</td>\n",
       "      <td>0.50</td>\n",
       "      <td>0.000000</td>\n",
       "    </tr>\n",
       "    <tr>\n",
       "      <th>11700</th>\n",
       "      <td>0.420455</td>\n",
       "      <td>0.663043</td>\n",
       "      <td>0.681818</td>\n",
       "      <td>0.651163</td>\n",
       "      <td>0.569767</td>\n",
       "      <td>0.648352</td>\n",
       "      <td>0.411111</td>\n",
       "      <td>0.426966</td>\n",
       "      <td>0.547619</td>\n",
       "      <td>0.648352</td>\n",
       "      <td>...</td>\n",
       "      <td>0.875</td>\n",
       "      <td>0.833333</td>\n",
       "      <td>0.833333</td>\n",
       "      <td>0.875</td>\n",
       "      <td>0.875</td>\n",
       "      <td>0.875</td>\n",
       "      <td>0.833333</td>\n",
       "      <td>0.666667</td>\n",
       "      <td>0.00</td>\n",
       "      <td>0.003571</td>\n",
       "    </tr>\n",
       "  </tbody>\n",
       "</table>\n",
       "<p>11701 rows × 63 columns</p>\n",
       "</div>"
      ],
      "text/plain": [
       "       crossing  finishing  heading_accuracy  short_passing   volleys  \\\n",
       "0      0.545455   0.478261          0.431818       0.720930  0.465116   \n",
       "1      0.681818   0.826087          0.806818       0.697674  0.837209   \n",
       "2      0.761364   0.793478          0.329545       0.813953  0.825581   \n",
       "3      0.431818   0.423913          0.602273       0.627907  0.372093   \n",
       "4      0.488636   0.369565          0.636364       0.697674  0.348837   \n",
       "...         ...        ...               ...            ...       ...   \n",
       "11696  0.636364   0.228261          0.522727       0.593023  0.279070   \n",
       "11697  0.068182   0.119565          0.090909       0.244186  0.139535   \n",
       "11698  0.659091   0.684783          0.522727       0.651163  0.430233   \n",
       "11699  0.659091   0.684783          0.522727       0.755814  0.477527   \n",
       "11700  0.420455   0.663043          0.681818       0.651163  0.569767   \n",
       "\n",
       "       dribbling     curve  fk_accuracy  long_passing  ball_control  ...  \\\n",
       "0       0.615385  0.444444     0.561798      0.642857      0.637363  ...   \n",
       "1       0.857143  0.822222     0.752809      0.642857      0.813187  ...   \n",
       "2       0.879121  0.944444     0.966292      0.773810      0.879121  ...   \n",
       "3       0.538462  0.411111     0.460674      0.571429      0.615385  ...   \n",
       "4       0.648352  0.444444     0.449438      0.619048      0.670330  ...   \n",
       "...          ...       ...          ...           ...           ...  ...   \n",
       "11696   0.571429  0.500000     0.269663      0.535714      0.593407  ...   \n",
       "11697   0.131868  0.122222     0.157303      0.214286      0.142857  ...   \n",
       "11698   0.725275  0.588889     0.370787      0.583333      0.681319  ...   \n",
       "11699   0.758242  0.506865     0.651685      0.750000      0.769231  ...   \n",
       "11700   0.648352  0.411111     0.426966      0.547619      0.648352  ...   \n",
       "\n",
       "       rdm_right  rwb_right  lb_right  lcb_right  cb_right  rcb_right  \\\n",
       "0          0.750   0.666667  0.666667      0.750     0.750      0.750   \n",
       "1          0.875   0.833333  0.833333      0.875     0.875      0.875   \n",
       "2          0.875   0.833333  0.833333      0.875     0.875      0.875   \n",
       "3          0.875   0.833333  0.833333      0.875     0.875      0.875   \n",
       "4          0.875   0.833333  0.833333      0.875     0.875      0.875   \n",
       "...          ...        ...       ...        ...       ...        ...   \n",
       "11696      0.875   0.833333  0.833333      0.875     0.875      0.875   \n",
       "11697      0.875   0.833333  0.833333      0.875     0.875      0.875   \n",
       "11698      0.875   0.833333  0.833333      0.875     0.875      0.875   \n",
       "11699      0.625   0.500000  0.500000      0.625     0.625      0.625   \n",
       "11700      0.875   0.833333  0.833333      0.875     0.875      0.875   \n",
       "\n",
       "       rb_right  gk_right  international_reputation      wage  \n",
       "0      0.666667  0.333333                      0.00  0.007143  \n",
       "1      0.833333  0.666667                      0.25  0.041071  \n",
       "2      0.833333  0.666667                      0.25  0.087500  \n",
       "3      0.833333  0.666667                      0.00  0.007143  \n",
       "4      0.833333  0.666667                      0.00  0.003571  \n",
       "...         ...       ...                       ...       ...  \n",
       "11696  0.833333  0.666667                      0.00  0.005357  \n",
       "11697  0.833333  0.666667                      0.00  0.007143  \n",
       "11698  0.833333  0.666667                      0.00  0.003571  \n",
       "11699  0.500000  0.000000                      0.50  0.000000  \n",
       "11700  0.833333  0.666667                      0.00  0.003571  \n",
       "\n",
       "[11701 rows x 63 columns]"
      ]
     },
     "execution_count": 16,
     "metadata": {},
     "output_type": "execute_result"
    }
   ],
   "source": [
    "tra = MinMaxScaler().fit(data_num)\n",
    "nor = tra.transform(data_num)\n",
    "\n",
    "data_nor = pd.DataFrame(nor, columns = data_num.columns)\n",
    "\n",
    "data_nor"
   ]
  },
  {
   "cell_type": "markdown",
   "id": "f6107062",
   "metadata": {},
   "source": [
    "# Concatenate"
   ]
  },
  {
   "cell_type": "code",
   "execution_count": 17,
   "id": "334adc89",
   "metadata": {},
   "outputs": [],
   "source": [
    "data1 = pd.concat([data_cat, data_nor], axis=1)\n",
    "# data1.describe().T\n",
    "# data1.dtypes"
   ]
  },
  {
   "cell_type": "markdown",
   "id": "67c05207",
   "metadata": {},
   "source": [
    "# Train-Test Split"
   ]
  },
  {
   "cell_type": "code",
   "execution_count": 18,
   "id": "52b1a3d4",
   "metadata": {},
   "outputs": [],
   "source": [
    "X = data1\n",
    "y = data['ova']\n",
    "\n",
    "X_train, X_test, y_train, y_test = train_test_split(X, y, test_size=0.1, random_state = 42)"
   ]
  },
  {
   "cell_type": "markdown",
   "id": "ef3554b5",
   "metadata": {},
   "source": [
    "# Linear Regression"
   ]
  },
  {
   "cell_type": "code",
   "execution_count": 19,
   "id": "ab03ee20",
   "metadata": {},
   "outputs": [
    {
     "data": {
      "text/html": [
       "<style>#sk-container-id-1 {color: black;background-color: white;}#sk-container-id-1 pre{padding: 0;}#sk-container-id-1 div.sk-toggleable {background-color: white;}#sk-container-id-1 label.sk-toggleable__label {cursor: pointer;display: block;width: 100%;margin-bottom: 0;padding: 0.3em;box-sizing: border-box;text-align: center;}#sk-container-id-1 label.sk-toggleable__label-arrow:before {content: \"▸\";float: left;margin-right: 0.25em;color: #696969;}#sk-container-id-1 label.sk-toggleable__label-arrow:hover:before {color: black;}#sk-container-id-1 div.sk-estimator:hover label.sk-toggleable__label-arrow:before {color: black;}#sk-container-id-1 div.sk-toggleable__content {max-height: 0;max-width: 0;overflow: hidden;text-align: left;background-color: #f0f8ff;}#sk-container-id-1 div.sk-toggleable__content pre {margin: 0.2em;color: black;border-radius: 0.25em;background-color: #f0f8ff;}#sk-container-id-1 input.sk-toggleable__control:checked~div.sk-toggleable__content {max-height: 200px;max-width: 100%;overflow: auto;}#sk-container-id-1 input.sk-toggleable__control:checked~label.sk-toggleable__label-arrow:before {content: \"▾\";}#sk-container-id-1 div.sk-estimator input.sk-toggleable__control:checked~label.sk-toggleable__label {background-color: #d4ebff;}#sk-container-id-1 div.sk-label input.sk-toggleable__control:checked~label.sk-toggleable__label {background-color: #d4ebff;}#sk-container-id-1 input.sk-hidden--visually {border: 0;clip: rect(1px 1px 1px 1px);clip: rect(1px, 1px, 1px, 1px);height: 1px;margin: -1px;overflow: hidden;padding: 0;position: absolute;width: 1px;}#sk-container-id-1 div.sk-estimator {font-family: monospace;background-color: #f0f8ff;border: 1px dotted black;border-radius: 0.25em;box-sizing: border-box;margin-bottom: 0.5em;}#sk-container-id-1 div.sk-estimator:hover {background-color: #d4ebff;}#sk-container-id-1 div.sk-parallel-item::after {content: \"\";width: 100%;border-bottom: 1px solid gray;flex-grow: 1;}#sk-container-id-1 div.sk-label:hover label.sk-toggleable__label {background-color: #d4ebff;}#sk-container-id-1 div.sk-serial::before {content: \"\";position: absolute;border-left: 1px solid gray;box-sizing: border-box;top: 0;bottom: 0;left: 50%;z-index: 0;}#sk-container-id-1 div.sk-serial {display: flex;flex-direction: column;align-items: center;background-color: white;padding-right: 0.2em;padding-left: 0.2em;position: relative;}#sk-container-id-1 div.sk-item {position: relative;z-index: 1;}#sk-container-id-1 div.sk-parallel {display: flex;align-items: stretch;justify-content: center;background-color: white;position: relative;}#sk-container-id-1 div.sk-item::before, #sk-container-id-1 div.sk-parallel-item::before {content: \"\";position: absolute;border-left: 1px solid gray;box-sizing: border-box;top: 0;bottom: 0;left: 50%;z-index: -1;}#sk-container-id-1 div.sk-parallel-item {display: flex;flex-direction: column;z-index: 1;position: relative;background-color: white;}#sk-container-id-1 div.sk-parallel-item:first-child::after {align-self: flex-end;width: 50%;}#sk-container-id-1 div.sk-parallel-item:last-child::after {align-self: flex-start;width: 50%;}#sk-container-id-1 div.sk-parallel-item:only-child::after {width: 0;}#sk-container-id-1 div.sk-dashed-wrapped {border: 1px dashed gray;margin: 0 0.4em 0.5em 0.4em;box-sizing: border-box;padding-bottom: 0.4em;background-color: white;}#sk-container-id-1 div.sk-label label {font-family: monospace;font-weight: bold;display: inline-block;line-height: 1.2em;}#sk-container-id-1 div.sk-label-container {text-align: center;}#sk-container-id-1 div.sk-container {/* jupyter's `normalize.less` sets `[hidden] { display: none; }` but bootstrap.min.css set `[hidden] { display: none !important; }` so we also need the `!important` here to be able to override the default hidden behavior on the sphinx rendered scikit-learn.org. See: https://github.com/scikit-learn/scikit-learn/issues/21755 */display: inline-block !important;position: relative;}#sk-container-id-1 div.sk-text-repr-fallback {display: none;}</style><div id=\"sk-container-id-1\" class=\"sk-top-container\"><div class=\"sk-text-repr-fallback\"><pre>LinearRegression()</pre><b>In a Jupyter environment, please rerun this cell to show the HTML representation or trust the notebook. <br />On GitHub, the HTML representation is unable to render, please try loading this page with nbviewer.org.</b></div><div class=\"sk-container\" hidden><div class=\"sk-item\"><div class=\"sk-estimator sk-toggleable\"><input class=\"sk-toggleable__control sk-hidden--visually\" id=\"sk-estimator-id-1\" type=\"checkbox\" checked><label for=\"sk-estimator-id-1\" class=\"sk-toggleable__label sk-toggleable__label-arrow\">LinearRegression</label><div class=\"sk-toggleable__content\"><pre>LinearRegression()</pre></div></div></div></div></div>"
      ],
      "text/plain": [
       "LinearRegression()"
      ]
     },
     "execution_count": 19,
     "metadata": {},
     "output_type": "execute_result"
    }
   ],
   "source": [
    "lm = linear_model.LinearRegression()\n",
    "lm.fit(X_train,y_train)"
   ]
  },
  {
   "cell_type": "code",
   "execution_count": 20,
   "id": "1e43b793",
   "metadata": {},
   "outputs": [
    {
     "data": {
      "text/plain": [
       "0.899349316710787"
      ]
     },
     "execution_count": 20,
     "metadata": {},
     "output_type": "execute_result"
    }
   ],
   "source": [
    "predictions = lm.predict(X_train)\n",
    "r2_score(y_train, predictions)"
   ]
  },
  {
   "cell_type": "markdown",
   "id": "08d0328e",
   "metadata": {},
   "source": [
    "# R2"
   ]
  },
  {
   "cell_type": "code",
   "execution_count": 21,
   "id": "b4b2f07f",
   "metadata": {},
   "outputs": [
    {
     "data": {
      "text/plain": [
       "0.8931452810350685"
      ]
     },
     "execution_count": 21,
     "metadata": {},
     "output_type": "execute_result"
    }
   ],
   "source": [
    "predictions_test = lm.predict(X_test) # The R2 test should be similar to the train test. That means is a strong model.\n",
    "r2_score(y_test, predictions_test)"
   ]
  },
  {
   "cell_type": "markdown",
   "id": "c6e3d635",
   "metadata": {},
   "source": [
    "# MAE"
   ]
  },
  {
   "cell_type": "code",
   "execution_count": 22,
   "id": "8508f921",
   "metadata": {},
   "outputs": [
    {
     "data": {
      "text/plain": [
       "1.6947456715631577"
      ]
     },
     "execution_count": 22,
     "metadata": {},
     "output_type": "execute_result"
    }
   ],
   "source": [
    "mae = mean_absolute_error(y_test, predictions_test) # It is under 2, so it´s good. We can also compare this with the range of the target. It should be similar to the RMSE. But the RMSE is going to be bigger because of the squaring.\n",
    "mae"
   ]
  },
  {
   "cell_type": "markdown",
   "id": "20c7548b",
   "metadata": {},
   "source": [
    "# MSE"
   ]
  },
  {
   "cell_type": "code",
   "execution_count": 23,
   "id": "61657c08",
   "metadata": {},
   "outputs": [
    {
     "data": {
      "text/plain": [
       "4.842045385324614"
      ]
     },
     "execution_count": 23,
     "metadata": {},
     "output_type": "execute_result"
    }
   ],
   "source": [
    "mse=mean_squared_error(y_test,predictions_test)\n",
    "mse"
   ]
  },
  {
   "cell_type": "markdown",
   "id": "18e780e0",
   "metadata": {},
   "source": [
    "# RMSE"
   ]
  },
  {
   "cell_type": "code",
   "execution_count": 24,
   "id": "65c87ffa",
   "metadata": {},
   "outputs": [
    {
     "data": {
      "text/plain": [
       "2.2004648111989007"
      ]
     },
     "execution_count": 24,
     "metadata": {},
     "output_type": "execute_result"
    }
   ],
   "source": [
    "rmse = np.sqrt(mean_squared_error(y_test,predictions_test))\n",
    "rmse"
   ]
  },
  {
   "cell_type": "markdown",
   "id": "66c81771",
   "metadata": {},
   "source": [
    "# Create a DEF Function"
   ]
  },
  {
   "cell_type": "code",
   "execution_count": 25,
   "id": "d0596868",
   "metadata": {},
   "outputs": [],
   "source": [
    "def clean (df):\n",
    "\n",
    "    # Rename columns\n",
    "    df.columns = df.columns.str.lower().str.replace(' ','_')\n",
    "    df.columns = df.columns.str.lower().str.replace('/','_')\n",
    "    df = df.rename(columns={'bp':'best_position',\n",
    "                                'team_&_contract':'team_contract', \n",
    "                                'w_f':'weak_foot', 'sm': 'skill_moves', 'a_w': 'attacking_work_rate', 'd_w': 'defensive_work_rate', 'ir': 'international_reputation', 'wf': 'weak_foot' })\n",
    "    # Edit wage   \n",
    "    icon = '€'\n",
    "\n",
    "    df['wage'] = df['wage'].str.replace(icon, '')\n",
    "    df['wage'] = df['wage'].str.replace('K', '000')\n",
    "\n",
    "    df['wage'] = df['wage'].astype('int')\n",
    "\n",
    "    # Edit positions\n",
    "    data_pos = df.loc[:, 'ls':'gk']\n",
    "    for col in data_pos.columns:\n",
    "        data_pos[[col, col + '_right']] = data_pos[col].str.split('+', expand=True)\n",
    "    data_pos = data_pos.astype(int)\n",
    "    data_pos = data_pos.drop(data_pos.loc[:, 'ls':'gk'].columns, axis=1)\n",
    "    \n",
    "    # Edit attributes\n",
    "    data_att = df.loc[:, 'crossing':'gk_reflexes']\n",
    "    data_att = data_att.drop(['skill', 'movement', 'power', 'mentality', 'defending', 'goalkeeping'], axis=1)\n",
    "    \n",
    "    # Edit international reputation\n",
    "    icon = '★'\n",
    "    df['international_reputation'] = df['international_reputation'].str.replace(icon, '')\n",
    "    df['international_reputation'] = df['international_reputation'].str.replace(' ', '')\n",
    "    df['international_reputation'] = df['international_reputation'].astype('int')\n",
    "    \n",
    "    # Edit best position\n",
    "    data_cat = pd.DataFrame(df['best_position'])\n",
    "    # don´t use this, it´s already trained:\n",
    "    # encoder = OneHotEncoder(drop='first').fit(data_cat)\n",
    "    encoded = encoder.transform(data_cat).toarray()\n",
    "    data_cat = pd.DataFrame(encoded,columns=encoder.get_feature_names_out())\n",
    "    \n",
    "    # Fill na\n",
    "    for col in data_att.columns:\n",
    "        data_att[col] = data_att[col].fillna(data_att[col].mean())\n",
    "    \n",
    "    # Concat\n",
    "    data_num = pd.concat([data_att, data_pos, df['international_reputation'], df['wage']], axis=1)\n",
    "    \n",
    "    \n",
    "    # Normalise\n",
    "    # don´t use this, it´s already trained:\n",
    "    # tra = MinMaxScaler().fit(data_num)\n",
    "    nor = tra.transform(data_num)\n",
    "    data_nor = pd.DataFrame(nor, columns = data_num.columns)\n",
    "    \n",
    "    # concatenate final\n",
    "    df = pd.concat([data_cat, data_nor], axis=1)\n",
    "    \n",
    "    return df"
   ]
  },
  {
   "cell_type": "code",
   "execution_count": 26,
   "id": "a619d065",
   "metadata": {},
   "outputs": [],
   "source": [
    "data_validate = pd.read_csv('fifa21_validate.csv')"
   ]
  },
  {
   "cell_type": "code",
   "execution_count": 27,
   "id": "64b581b6",
   "metadata": {},
   "outputs": [],
   "source": [
    "data_validate_clean = clean(data_validate)"
   ]
  },
  {
   "cell_type": "code",
   "execution_count": 28,
   "id": "9a7a08cc",
   "metadata": {},
   "outputs": [
    {
     "data": {
      "text/plain": [
       "0.8975637259605032"
      ]
     },
     "execution_count": 28,
     "metadata": {},
     "output_type": "execute_result"
    }
   ],
   "source": [
    "X_val = data_validate_clean\n",
    "y_val = data_validate['ova']\n",
    "\n",
    "predictions_test_val = lm.predict(X_val)\n",
    "r2_score(y_val, predictions_test_val)"
   ]
  },
  {
   "cell_type": "code",
   "execution_count": 29,
   "id": "f9d1140d",
   "metadata": {},
   "outputs": [
    {
     "data": {
      "text/plain": [
       "1.6766299339340625"
      ]
     },
     "execution_count": 29,
     "metadata": {},
     "output_type": "execute_result"
    }
   ],
   "source": [
    "mae = mean_absolute_error(y_val, predictions_test_val)\n",
    "mae"
   ]
  },
  {
   "cell_type": "code",
   "execution_count": 30,
   "id": "b92e4988",
   "metadata": {},
   "outputs": [
    {
     "data": {
      "text/plain": [
       "4.687635612335356"
      ]
     },
     "execution_count": 30,
     "metadata": {},
     "output_type": "execute_result"
    }
   ],
   "source": [
    "mse=mean_squared_error(y_val,predictions_test_val)\n",
    "mse"
   ]
  },
  {
   "cell_type": "code",
   "execution_count": 31,
   "id": "7eb3e128",
   "metadata": {},
   "outputs": [
    {
     "data": {
      "text/plain": [
       "2.1650948275619144"
      ]
     },
     "execution_count": 31,
     "metadata": {},
     "output_type": "execute_result"
    }
   ],
   "source": [
    "rmse = np.sqrt(mse)\n",
    "rmse"
   ]
  }
 ],
 "metadata": {
  "kernelspec": {
   "display_name": "Python 3 (ipykernel)",
   "language": "python",
   "name": "python3"
  },
  "language_info": {
   "codemirror_mode": {
    "name": "ipython",
    "version": 3
   },
   "file_extension": ".py",
   "mimetype": "text/x-python",
   "name": "python",
   "nbconvert_exporter": "python",
   "pygments_lexer": "ipython3",
   "version": "3.11.3"
  }
 },
 "nbformat": 4,
 "nbformat_minor": 5
}
