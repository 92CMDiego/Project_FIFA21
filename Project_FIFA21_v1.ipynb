{
 "cells": [
  {
   "cell_type": "code",
   "execution_count": 1,
   "metadata": {},
   "outputs": [],
   "source": [
    "import pandas as pd\n",
    "import numpy as np\n",
    "from sklearn import linear_model\n",
    "from sklearn.preprocessing import OneHotEncoder\n",
    "from sklearn.preprocessing import MinMaxScaler\n",
    "from sklearn.model_selection import train_test_split\n",
    "from sklearn.metrics import r2_score\n",
    "from sklearn.metrics import mean_squared_error\n",
    "from sklearn.metrics import mean_absolute_error"
   ]
  },
  {
   "cell_type": "code",
   "execution_count": 2,
   "metadata": {},
   "outputs": [],
   "source": [
    "data = pd.read_csv('fifa21_train.csv')"
   ]
  },
  {
   "cell_type": "code",
   "execution_count": 3,
   "metadata": {},
   "outputs": [
    {
     "data": {
      "text/plain": [
       "(11701, 101)"
      ]
     },
     "execution_count": 3,
     "metadata": {},
     "output_type": "execute_result"
    }
   ],
   "source": [
    "data.shape"
   ]
  },
  {
   "cell_type": "code",
   "execution_count": 4,
   "metadata": {},
   "outputs": [],
   "source": [
    "data.columns = data.columns.str.lower().str.replace(' ','_')\n",
    "data.columns = data.columns.str.lower().str.replace('/','_')"
   ]
  },
  {
   "cell_type": "code",
   "execution_count": 5,
   "metadata": {},
   "outputs": [],
   "source": [
    "data = data.rename(columns={'bp':'best_position',\n",
    "                            'team_&_contract':'team_contract', \n",
    "                            'w_f':'weak_foot', 'sm': 'skill_moves', 'a_w': 'attacking_work_rate', 'd_w': 'defensive_work_rate', 'ir': 'international_reputation', 'wf': 'weak_foot' })"
   ]
  },
  {
   "cell_type": "code",
   "execution_count": 6,
   "metadata": {},
   "outputs": [],
   "source": [
    "data.to_csv('fifa21_cleanedcolumnnsnames.csv')"
   ]
  },
  {
   "cell_type": "markdown",
   "metadata": {},
   "source": [
    "## Checking"
   ]
  },
  {
   "cell_type": "code",
   "execution_count": 7,
   "metadata": {},
   "outputs": [],
   "source": [
    "# data.head()\n",
    "# data.columns.tolist()\n",
    "# data1.dtypes.tolist()\n",
    "# data.isna().count().tolist()\n",
    "# data['height']"
   ]
  },
  {
   "cell_type": "markdown",
   "metadata": {},
   "source": [
    "# Decisions.\n",
    "- OVR = ATT + IR (Overal Rating equals attributes and international reputation).\n",
    "\n",
    "- We know that the variables used to calculate OVR are the ones of the **attributes** of the player (crossing, dribbling, positioning, etc.) plus the **international reputation**.\n",
    "\n",
    "- Our categorical column is **\"best position\"**.\n",
    "\n",
    "- We also have to take into account how the OVR changes when the player does not play in its \"best position\".\n",
    "\n",
    "- So we need to use the information of the **last columns as well** (the ones with the information of the players' performance in each postion).\n",
    "\n",
    "- For these columns (the ones with \"+\"), we´re going to keep **the second number**. We think the first number can be calculated from the columns of attributes.\n",
    "\n",
    "- We know some columns are the sum of other columns. We decided to keep just the columns of attributes that are not a summation of other columns.\n",
    "\n",
    "- We cleaned and treated this data and obtained our first model."
   ]
  },
  {
   "cell_type": "markdown",
   "metadata": {},
   "source": [
    "# New DF.\n",
    "Divide Columns, Choose Right"
   ]
  },
  {
   "cell_type": "code",
   "execution_count": 8,
   "metadata": {},
   "outputs": [],
   "source": [
    "data_pos = data.loc[:, 'ls':'gk']\n",
    "\n",
    "for col in data_pos.columns:\n",
    "    data_pos[[col, col + '_right']] = data_pos[col].str.split('+', expand=True)\n",
    "\n",
    "# Convertir las columnas resultantes en numéricas\n",
    "data_pos = data_pos.astype(int)\n",
    "\n",
    "data_pos = data_pos.drop(data_pos.loc[:, 'ls':'gk'].columns, axis=1)"
   ]
  },
  {
   "cell_type": "markdown",
   "metadata": {},
   "source": [
    "Drop columns."
   ]
  },
  {
   "cell_type": "code",
   "execution_count": 9,
   "metadata": {},
   "outputs": [],
   "source": [
    "data_att = data.loc[:, 'crossing':'gk_reflexes']\n",
    "data_att = data_att.drop(['skill', 'movement', 'power', 'mentality', 'power', 'mentality', 'defending', 'goalkeeping'], axis=1)"
   ]
  },
  {
   "cell_type": "markdown",
   "metadata": {},
   "source": [
    "Clean star."
   ]
  },
  {
   "cell_type": "code",
   "execution_count": 10,
   "metadata": {},
   "outputs": [],
   "source": [
    "icon = '★'\n",
    "data['international_reputation'] = data['international_reputation'].str.replace(icon, '')\n",
    "data['international_reputation'] = data['international_reputation'].str.replace(' ', '')\n",
    "data['international_reputation'] = data['international_reputation'].astype('int')"
   ]
  },
  {
   "cell_type": "markdown",
   "metadata": {},
   "source": [
    "Our categorial feautre is column 'best position'. We encode it with one hot encoder."
   ]
  },
  {
   "cell_type": "code",
   "execution_count": 11,
   "metadata": {},
   "outputs": [],
   "source": [
    "data_cat = pd.DataFrame(data['best_position'])\n",
    "\n",
    "encoder = OneHotEncoder(drop='first').fit(data_cat)\n",
    "encoded = encoder.transform(data_cat).toarray()\n",
    "\n",
    "data_cat = pd.DataFrame(encoded,columns=encoder.get_feature_names_out())"
   ]
  },
  {
   "cell_type": "markdown",
   "metadata": {},
   "source": [
    "Clean NaN. Replace with mean value."
   ]
  },
  {
   "cell_type": "code",
   "execution_count": 12,
   "metadata": {},
   "outputs": [],
   "source": [
    "for col in data_att.columns:\n",
    "    data_att[col] = data_att[col].fillna(data_att[col].mean())"
   ]
  },
  {
   "cell_type": "code",
   "execution_count": 13,
   "metadata": {},
   "outputs": [
    {
     "data": {
      "text/plain": [
       "[0,\n",
       " 0,\n",
       " 0,\n",
       " 0,\n",
       " 0,\n",
       " 0,\n",
       " 0,\n",
       " 0,\n",
       " 0,\n",
       " 0,\n",
       " 0,\n",
       " 0,\n",
       " 0,\n",
       " 0,\n",
       " 0,\n",
       " 0,\n",
       " 0,\n",
       " 0,\n",
       " 0,\n",
       " 0,\n",
       " 0,\n",
       " 0,\n",
       " 0,\n",
       " 0,\n",
       " 0,\n",
       " 0,\n",
       " 0,\n",
       " 0,\n",
       " 0,\n",
       " 0,\n",
       " 0,\n",
       " 0,\n",
       " 0,\n",
       " 0]"
      ]
     },
     "execution_count": 13,
     "metadata": {},
     "output_type": "execute_result"
    }
   ],
   "source": [
    "# Check.\n",
    "data_att.isna().sum().tolist()"
   ]
  },
  {
   "cell_type": "markdown",
   "metadata": {},
   "source": [
    "Concatenate numerical."
   ]
  },
  {
   "cell_type": "code",
   "execution_count": 14,
   "metadata": {},
   "outputs": [
    {
     "data": {
      "text/plain": [
       "Index(['crossing', 'finishing', 'heading_accuracy', 'short_passing', 'volleys',\n",
       "       'dribbling', 'curve', 'fk_accuracy', 'long_passing', 'ball_control',\n",
       "       'acceleration', 'sprint_speed', 'agility', 'reactions', 'balance',\n",
       "       'shot_power', 'jumping', 'stamina', 'strength', 'long_shots',\n",
       "       'aggression', 'interceptions', 'positioning', 'vision', 'penalties',\n",
       "       'composure', 'marking', 'standing_tackle', 'sliding_tackle',\n",
       "       'gk_diving', 'gk_handling', 'gk_kicking', 'gk_positioning',\n",
       "       'gk_reflexes', 'ls_right', 'st_right', 'rs_right', 'lw_right',\n",
       "       'lf_right', 'cf_right', 'rf_right', 'rw_right', 'lam_right',\n",
       "       'cam_right', 'ram_right', 'lm_right', 'lcm_right', 'cm_right',\n",
       "       'rcm_right', 'rm_right', 'lwb_right', 'ldm_right', 'cdm_right',\n",
       "       'rdm_right', 'rwb_right', 'lb_right', 'lcb_right', 'cb_right',\n",
       "       'rcb_right', 'rb_right', 'gk_right', 'international_reputation'],\n",
       "      dtype='object')"
      ]
     },
     "execution_count": 14,
     "metadata": {},
     "output_type": "execute_result"
    }
   ],
   "source": [
    "data_num = pd.concat([data_att, data_pos, data['international_reputation']], axis=1)\n",
    "# data_nor.isna().sum().tolist()\n",
    "\n",
    "data_num.columns"
   ]
  },
  {
   "cell_type": "markdown",
   "metadata": {},
   "source": [
    "# Check correlation."
   ]
  },
  {
   "cell_type": "code",
   "execution_count": 15,
   "metadata": {},
   "outputs": [
    {
     "data": {
      "text/plain": [
       "Index(['ova', 'crossing', 'finishing', 'heading_accuracy', 'short_passing',\n",
       "       'volleys', 'dribbling', 'curve', 'fk_accuracy', 'long_passing',\n",
       "       'ball_control', 'acceleration', 'sprint_speed', 'agility', 'reactions',\n",
       "       'balance', 'shot_power', 'jumping', 'stamina', 'strength', 'long_shots',\n",
       "       'aggression', 'interceptions', 'positioning', 'vision', 'penalties',\n",
       "       'composure', 'marking', 'standing_tackle', 'sliding_tackle',\n",
       "       'gk_diving', 'gk_handling', 'gk_kicking', 'gk_positioning',\n",
       "       'gk_reflexes', 'ls_right', 'st_right', 'rs_right', 'lw_right',\n",
       "       'lf_right', 'cf_right', 'rf_right', 'rw_right', 'lam_right',\n",
       "       'cam_right', 'ram_right', 'lm_right', 'lcm_right', 'cm_right',\n",
       "       'rcm_right', 'rm_right', 'lwb_right', 'ldm_right', 'cdm_right',\n",
       "       'rdm_right', 'rwb_right', 'lb_right', 'lcb_right', 'cb_right',\n",
       "       'rcb_right', 'rb_right', 'gk_right', 'international_reputation'],\n",
       "      dtype='object')"
      ]
     },
     "execution_count": 15,
     "metadata": {},
     "output_type": "execute_result"
    }
   ],
   "source": [
    "data1_target = pd.concat([data['ova'], data_num], axis=1)\n",
    "data1_target.columns"
   ]
  },
  {
   "cell_type": "code",
   "execution_count": 16,
   "metadata": {},
   "outputs": [
    {
     "data": {
      "text/plain": [
       "Index(['ova', 'crossing', 'finishing', 'heading_accuracy', 'short_passing',\n",
       "       'volleys', 'dribbling', 'curve', 'fk_accuracy', 'long_passing',\n",
       "       'ball_control', 'acceleration', 'sprint_speed', 'agility', 'reactions',\n",
       "       'balance', 'shot_power', 'jumping', 'stamina', 'strength', 'long_shots',\n",
       "       'aggression', 'interceptions', 'positioning', 'vision', 'penalties',\n",
       "       'composure', 'marking', 'standing_tackle', 'sliding_tackle',\n",
       "       'gk_diving', 'gk_handling', 'gk_kicking', 'gk_positioning',\n",
       "       'gk_reflexes', 'ls_right', 'st_right', 'rs_right', 'lw_right',\n",
       "       'lf_right', 'cf_right', 'rf_right', 'rw_right', 'lam_right',\n",
       "       'cam_right', 'ram_right', 'lm_right', 'lcm_right', 'cm_right',\n",
       "       'rcm_right', 'rm_right', 'lwb_right', 'ldm_right', 'cdm_right',\n",
       "       'rdm_right', 'rwb_right', 'lb_right', 'lcb_right', 'cb_right',\n",
       "       'rcb_right', 'rb_right', 'gk_right', 'international_reputation'],\n",
       "      dtype='object')"
      ]
     },
     "execution_count": 16,
     "metadata": {},
     "output_type": "execute_result"
    }
   ],
   "source": [
    "correlation_matrix = data1_target.corr()\n",
    "correlation_matrix.columns"
   ]
  },
  {
   "cell_type": "markdown",
   "metadata": {},
   "source": [
    "We discard the features wihout a correlation larger than 0.2 with the target."
   ]
  },
  {
   "cell_type": "code",
   "execution_count": 17,
   "metadata": {},
   "outputs": [
    {
     "data": {
      "text/plain": [
       "Index(['ova', 'crossing', 'finishing', 'heading_accuracy', 'short_passing',\n",
       "       'volleys', 'dribbling', 'curve', 'fk_accuracy', 'long_passing',\n",
       "       'ball_control', 'agility', 'reactions', 'shot_power', 'jumping',\n",
       "       'stamina', 'strength', 'long_shots', 'aggression', 'interceptions',\n",
       "       'positioning', 'vision', 'penalties', 'composure', 'marking',\n",
       "       'standing_tackle', 'sliding_tackle', 'international_reputation'],\n",
       "      dtype='object')"
      ]
     },
     "execution_count": 17,
     "metadata": {},
     "output_type": "execute_result"
    }
   ],
   "source": [
    "cor_ova = correlation_matrix[(correlation_matrix['ova']>0.2) | (correlation_matrix['ova']<(-0.2))]\n",
    "\n",
    "cor_ova.T.columns"
   ]
  },
  {
   "cell_type": "markdown",
   "metadata": {},
   "source": [
    "We select the columns that meet the criteria."
   ]
  },
  {
   "cell_type": "code",
   "execution_count": 18,
   "metadata": {},
   "outputs": [
    {
     "data": {
      "text/html": [
       "<div>\n",
       "<style scoped>\n",
       "    .dataframe tbody tr th:only-of-type {\n",
       "        vertical-align: middle;\n",
       "    }\n",
       "\n",
       "    .dataframe tbody tr th {\n",
       "        vertical-align: top;\n",
       "    }\n",
       "\n",
       "    .dataframe thead th {\n",
       "        text-align: right;\n",
       "    }\n",
       "</style>\n",
       "<table border=\"1\" class=\"dataframe\">\n",
       "  <thead>\n",
       "    <tr style=\"text-align: right;\">\n",
       "      <th></th>\n",
       "      <th>crossing</th>\n",
       "      <th>finishing</th>\n",
       "      <th>heading_accuracy</th>\n",
       "      <th>short_passing</th>\n",
       "      <th>volleys</th>\n",
       "      <th>dribbling</th>\n",
       "      <th>curve</th>\n",
       "      <th>fk_accuracy</th>\n",
       "      <th>long_passing</th>\n",
       "      <th>ball_control</th>\n",
       "      <th>...</th>\n",
       "      <th>aggression</th>\n",
       "      <th>interceptions</th>\n",
       "      <th>positioning</th>\n",
       "      <th>vision</th>\n",
       "      <th>penalties</th>\n",
       "      <th>composure</th>\n",
       "      <th>marking</th>\n",
       "      <th>standing_tackle</th>\n",
       "      <th>sliding_tackle</th>\n",
       "      <th>international_reputation</th>\n",
       "    </tr>\n",
       "  </thead>\n",
       "  <tbody>\n",
       "    <tr>\n",
       "      <th>0</th>\n",
       "      <td>54</td>\n",
       "      <td>47</td>\n",
       "      <td>43</td>\n",
       "      <td>70</td>\n",
       "      <td>44.000000</td>\n",
       "      <td>61</td>\n",
       "      <td>44.000000</td>\n",
       "      <td>55</td>\n",
       "      <td>63</td>\n",
       "      <td>63</td>\n",
       "      <td>...</td>\n",
       "      <td>54</td>\n",
       "      <td>52.0</td>\n",
       "      <td>62.0</td>\n",
       "      <td>68.000000</td>\n",
       "      <td>54</td>\n",
       "      <td>54.000000</td>\n",
       "      <td>49</td>\n",
       "      <td>56</td>\n",
       "      <td>43.000000</td>\n",
       "      <td>1</td>\n",
       "    </tr>\n",
       "    <tr>\n",
       "      <th>1</th>\n",
       "      <td>66</td>\n",
       "      <td>79</td>\n",
       "      <td>76</td>\n",
       "      <td>68</td>\n",
       "      <td>76.000000</td>\n",
       "      <td>83</td>\n",
       "      <td>78.000000</td>\n",
       "      <td>72</td>\n",
       "      <td>63</td>\n",
       "      <td>79</td>\n",
       "      <td>...</td>\n",
       "      <td>54</td>\n",
       "      <td>33.0</td>\n",
       "      <td>78.0</td>\n",
       "      <td>72.000000</td>\n",
       "      <td>76</td>\n",
       "      <td>70.000000</td>\n",
       "      <td>35</td>\n",
       "      <td>20</td>\n",
       "      <td>22.000000</td>\n",
       "      <td>2</td>\n",
       "    </tr>\n",
       "    <tr>\n",
       "      <th>2</th>\n",
       "      <td>73</td>\n",
       "      <td>76</td>\n",
       "      <td>34</td>\n",
       "      <td>78</td>\n",
       "      <td>75.000000</td>\n",
       "      <td>85</td>\n",
       "      <td>89.000000</td>\n",
       "      <td>91</td>\n",
       "      <td>74</td>\n",
       "      <td>85</td>\n",
       "      <td>...</td>\n",
       "      <td>75</td>\n",
       "      <td>26.0</td>\n",
       "      <td>80.0</td>\n",
       "      <td>78.000000</td>\n",
       "      <td>73</td>\n",
       "      <td>82.000000</td>\n",
       "      <td>23</td>\n",
       "      <td>29</td>\n",
       "      <td>28.000000</td>\n",
       "      <td>2</td>\n",
       "    </tr>\n",
       "    <tr>\n",
       "      <th>3</th>\n",
       "      <td>44</td>\n",
       "      <td>42</td>\n",
       "      <td>58</td>\n",
       "      <td>62</td>\n",
       "      <td>36.000000</td>\n",
       "      <td>54</td>\n",
       "      <td>41.000000</td>\n",
       "      <td>46</td>\n",
       "      <td>57</td>\n",
       "      <td>61</td>\n",
       "      <td>...</td>\n",
       "      <td>61</td>\n",
       "      <td>57.0</td>\n",
       "      <td>31.0</td>\n",
       "      <td>54.000000</td>\n",
       "      <td>54</td>\n",
       "      <td>48.000000</td>\n",
       "      <td>55</td>\n",
       "      <td>58</td>\n",
       "      <td>55.000000</td>\n",
       "      <td>1</td>\n",
       "    </tr>\n",
       "    <tr>\n",
       "      <th>4</th>\n",
       "      <td>49</td>\n",
       "      <td>37</td>\n",
       "      <td>61</td>\n",
       "      <td>68</td>\n",
       "      <td>34.000000</td>\n",
       "      <td>64</td>\n",
       "      <td>44.000000</td>\n",
       "      <td>45</td>\n",
       "      <td>61</td>\n",
       "      <td>66</td>\n",
       "      <td>...</td>\n",
       "      <td>66</td>\n",
       "      <td>60.0</td>\n",
       "      <td>55.0</td>\n",
       "      <td>64.000000</td>\n",
       "      <td>49</td>\n",
       "      <td>58.000000</td>\n",
       "      <td>58</td>\n",
       "      <td>61</td>\n",
       "      <td>66.000000</td>\n",
       "      <td>1</td>\n",
       "    </tr>\n",
       "    <tr>\n",
       "      <th>...</th>\n",
       "      <td>...</td>\n",
       "      <td>...</td>\n",
       "      <td>...</td>\n",
       "      <td>...</td>\n",
       "      <td>...</td>\n",
       "      <td>...</td>\n",
       "      <td>...</td>\n",
       "      <td>...</td>\n",
       "      <td>...</td>\n",
       "      <td>...</td>\n",
       "      <td>...</td>\n",
       "      <td>...</td>\n",
       "      <td>...</td>\n",
       "      <td>...</td>\n",
       "      <td>...</td>\n",
       "      <td>...</td>\n",
       "      <td>...</td>\n",
       "      <td>...</td>\n",
       "      <td>...</td>\n",
       "      <td>...</td>\n",
       "      <td>...</td>\n",
       "    </tr>\n",
       "    <tr>\n",
       "      <th>11696</th>\n",
       "      <td>62</td>\n",
       "      <td>24</td>\n",
       "      <td>51</td>\n",
       "      <td>59</td>\n",
       "      <td>28.000000</td>\n",
       "      <td>57</td>\n",
       "      <td>49.000000</td>\n",
       "      <td>29</td>\n",
       "      <td>54</td>\n",
       "      <td>59</td>\n",
       "      <td>...</td>\n",
       "      <td>63</td>\n",
       "      <td>59.0</td>\n",
       "      <td>51.0</td>\n",
       "      <td>54.000000</td>\n",
       "      <td>39</td>\n",
       "      <td>46.000000</td>\n",
       "      <td>59</td>\n",
       "      <td>64</td>\n",
       "      <td>61.000000</td>\n",
       "      <td>1</td>\n",
       "    </tr>\n",
       "    <tr>\n",
       "      <th>11697</th>\n",
       "      <td>12</td>\n",
       "      <td>14</td>\n",
       "      <td>13</td>\n",
       "      <td>29</td>\n",
       "      <td>16.000000</td>\n",
       "      <td>17</td>\n",
       "      <td>15.000000</td>\n",
       "      <td>19</td>\n",
       "      <td>27</td>\n",
       "      <td>18</td>\n",
       "      <td>...</td>\n",
       "      <td>30</td>\n",
       "      <td>22.0</td>\n",
       "      <td>15.0</td>\n",
       "      <td>15.000000</td>\n",
       "      <td>19</td>\n",
       "      <td>56.000000</td>\n",
       "      <td>12</td>\n",
       "      <td>16</td>\n",
       "      <td>13.000000</td>\n",
       "      <td>1</td>\n",
       "    </tr>\n",
       "    <tr>\n",
       "      <th>11698</th>\n",
       "      <td>64</td>\n",
       "      <td>66</td>\n",
       "      <td>51</td>\n",
       "      <td>64</td>\n",
       "      <td>41.000000</td>\n",
       "      <td>71</td>\n",
       "      <td>57.000000</td>\n",
       "      <td>38</td>\n",
       "      <td>58</td>\n",
       "      <td>67</td>\n",
       "      <td>...</td>\n",
       "      <td>27</td>\n",
       "      <td>25.0</td>\n",
       "      <td>66.0</td>\n",
       "      <td>58.000000</td>\n",
       "      <td>65</td>\n",
       "      <td>58.000000</td>\n",
       "      <td>37</td>\n",
       "      <td>12</td>\n",
       "      <td>13.000000</td>\n",
       "      <td>1</td>\n",
       "    </tr>\n",
       "    <tr>\n",
       "      <th>11699</th>\n",
       "      <td>64</td>\n",
       "      <td>66</td>\n",
       "      <td>51</td>\n",
       "      <td>73</td>\n",
       "      <td>45.067324</td>\n",
       "      <td>74</td>\n",
       "      <td>49.617839</td>\n",
       "      <td>63</td>\n",
       "      <td>72</td>\n",
       "      <td>75</td>\n",
       "      <td>...</td>\n",
       "      <td>64</td>\n",
       "      <td>61.0</td>\n",
       "      <td>63.0</td>\n",
       "      <td>55.439194</td>\n",
       "      <td>53</td>\n",
       "      <td>59.947732</td>\n",
       "      <td>55</td>\n",
       "      <td>58</td>\n",
       "      <td>45.827702</td>\n",
       "      <td>3</td>\n",
       "    </tr>\n",
       "    <tr>\n",
       "      <th>11700</th>\n",
       "      <td>43</td>\n",
       "      <td>64</td>\n",
       "      <td>65</td>\n",
       "      <td>64</td>\n",
       "      <td>53.000000</td>\n",
       "      <td>64</td>\n",
       "      <td>41.000000</td>\n",
       "      <td>43</td>\n",
       "      <td>55</td>\n",
       "      <td>64</td>\n",
       "      <td>...</td>\n",
       "      <td>34</td>\n",
       "      <td>20.0</td>\n",
       "      <td>66.0</td>\n",
       "      <td>63.000000</td>\n",
       "      <td>61</td>\n",
       "      <td>56.000000</td>\n",
       "      <td>20</td>\n",
       "      <td>18</td>\n",
       "      <td>18.000000</td>\n",
       "      <td>1</td>\n",
       "    </tr>\n",
       "  </tbody>\n",
       "</table>\n",
       "<p>11701 rows × 27 columns</p>\n",
       "</div>"
      ],
      "text/plain": [
       "       crossing  finishing  heading_accuracy  short_passing    volleys  \\\n",
       "0            54         47                43             70  44.000000   \n",
       "1            66         79                76             68  76.000000   \n",
       "2            73         76                34             78  75.000000   \n",
       "3            44         42                58             62  36.000000   \n",
       "4            49         37                61             68  34.000000   \n",
       "...         ...        ...               ...            ...        ...   \n",
       "11696        62         24                51             59  28.000000   \n",
       "11697        12         14                13             29  16.000000   \n",
       "11698        64         66                51             64  41.000000   \n",
       "11699        64         66                51             73  45.067324   \n",
       "11700        43         64                65             64  53.000000   \n",
       "\n",
       "       dribbling      curve  fk_accuracy  long_passing  ball_control  ...  \\\n",
       "0             61  44.000000           55            63            63  ...   \n",
       "1             83  78.000000           72            63            79  ...   \n",
       "2             85  89.000000           91            74            85  ...   \n",
       "3             54  41.000000           46            57            61  ...   \n",
       "4             64  44.000000           45            61            66  ...   \n",
       "...          ...        ...          ...           ...           ...  ...   \n",
       "11696         57  49.000000           29            54            59  ...   \n",
       "11697         17  15.000000           19            27            18  ...   \n",
       "11698         71  57.000000           38            58            67  ...   \n",
       "11699         74  49.617839           63            72            75  ...   \n",
       "11700         64  41.000000           43            55            64  ...   \n",
       "\n",
       "       aggression  interceptions  positioning     vision  penalties  \\\n",
       "0              54           52.0         62.0  68.000000         54   \n",
       "1              54           33.0         78.0  72.000000         76   \n",
       "2              75           26.0         80.0  78.000000         73   \n",
       "3              61           57.0         31.0  54.000000         54   \n",
       "4              66           60.0         55.0  64.000000         49   \n",
       "...           ...            ...          ...        ...        ...   \n",
       "11696          63           59.0         51.0  54.000000         39   \n",
       "11697          30           22.0         15.0  15.000000         19   \n",
       "11698          27           25.0         66.0  58.000000         65   \n",
       "11699          64           61.0         63.0  55.439194         53   \n",
       "11700          34           20.0         66.0  63.000000         61   \n",
       "\n",
       "       composure  marking  standing_tackle  sliding_tackle  \\\n",
       "0      54.000000       49               56       43.000000   \n",
       "1      70.000000       35               20       22.000000   \n",
       "2      82.000000       23               29       28.000000   \n",
       "3      48.000000       55               58       55.000000   \n",
       "4      58.000000       58               61       66.000000   \n",
       "...          ...      ...              ...             ...   \n",
       "11696  46.000000       59               64       61.000000   \n",
       "11697  56.000000       12               16       13.000000   \n",
       "11698  58.000000       37               12       13.000000   \n",
       "11699  59.947732       55               58       45.827702   \n",
       "11700  56.000000       20               18       18.000000   \n",
       "\n",
       "       international_reputation  \n",
       "0                             1  \n",
       "1                             2  \n",
       "2                             2  \n",
       "3                             1  \n",
       "4                             1  \n",
       "...                         ...  \n",
       "11696                         1  \n",
       "11697                         1  \n",
       "11698                         1  \n",
       "11699                         3  \n",
       "11700                         1  \n",
       "\n",
       "[11701 rows x 27 columns]"
      ]
     },
     "execution_count": 18,
     "metadata": {},
     "output_type": "execute_result"
    }
   ],
   "source": [
    "data_num = data_num[['crossing', 'finishing', 'heading_accuracy', 'short_passing',\n",
    "       'volleys', 'dribbling', 'curve', 'fk_accuracy', 'long_passing',\n",
    "       'ball_control', 'agility', 'reactions', 'shot_power', 'jumping',\n",
    "       'stamina', 'strength', 'long_shots', 'aggression', 'interceptions',\n",
    "       'positioning', 'vision', 'penalties', 'composure', 'marking',\n",
    "       'standing_tackle', 'sliding_tackle', 'international_reputation']]\n",
    "data_num"
   ]
  },
  {
   "cell_type": "markdown",
   "metadata": {},
   "source": [
    "# Normalize."
   ]
  },
  {
   "cell_type": "code",
   "execution_count": 19,
   "metadata": {},
   "outputs": [
    {
     "data": {
      "text/html": [
       "<div>\n",
       "<style scoped>\n",
       "    .dataframe tbody tr th:only-of-type {\n",
       "        vertical-align: middle;\n",
       "    }\n",
       "\n",
       "    .dataframe tbody tr th {\n",
       "        vertical-align: top;\n",
       "    }\n",
       "\n",
       "    .dataframe thead th {\n",
       "        text-align: right;\n",
       "    }\n",
       "</style>\n",
       "<table border=\"1\" class=\"dataframe\">\n",
       "  <thead>\n",
       "    <tr style=\"text-align: right;\">\n",
       "      <th></th>\n",
       "      <th>crossing</th>\n",
       "      <th>finishing</th>\n",
       "      <th>heading_accuracy</th>\n",
       "      <th>short_passing</th>\n",
       "      <th>volleys</th>\n",
       "      <th>dribbling</th>\n",
       "      <th>curve</th>\n",
       "      <th>fk_accuracy</th>\n",
       "      <th>long_passing</th>\n",
       "      <th>ball_control</th>\n",
       "      <th>...</th>\n",
       "      <th>aggression</th>\n",
       "      <th>interceptions</th>\n",
       "      <th>positioning</th>\n",
       "      <th>vision</th>\n",
       "      <th>penalties</th>\n",
       "      <th>composure</th>\n",
       "      <th>marking</th>\n",
       "      <th>standing_tackle</th>\n",
       "      <th>sliding_tackle</th>\n",
       "      <th>international_reputation</th>\n",
       "    </tr>\n",
       "  </thead>\n",
       "  <tbody>\n",
       "    <tr>\n",
       "      <th>0</th>\n",
       "      <td>0.545455</td>\n",
       "      <td>0.478261</td>\n",
       "      <td>0.431818</td>\n",
       "      <td>0.720930</td>\n",
       "      <td>0.465116</td>\n",
       "      <td>0.615385</td>\n",
       "      <td>0.444444</td>\n",
       "      <td>0.561798</td>\n",
       "      <td>0.642857</td>\n",
       "      <td>0.637363</td>\n",
       "      <td>...</td>\n",
       "      <td>0.517241</td>\n",
       "      <td>0.522222</td>\n",
       "      <td>0.638298</td>\n",
       "      <td>0.682353</td>\n",
       "      <td>0.534884</td>\n",
       "      <td>0.500000</td>\n",
       "      <td>0.516854</td>\n",
       "      <td>0.595238</td>\n",
       "      <td>0.440476</td>\n",
       "      <td>0.00</td>\n",
       "    </tr>\n",
       "    <tr>\n",
       "      <th>1</th>\n",
       "      <td>0.681818</td>\n",
       "      <td>0.826087</td>\n",
       "      <td>0.806818</td>\n",
       "      <td>0.697674</td>\n",
       "      <td>0.837209</td>\n",
       "      <td>0.857143</td>\n",
       "      <td>0.822222</td>\n",
       "      <td>0.752809</td>\n",
       "      <td>0.642857</td>\n",
       "      <td>0.813187</td>\n",
       "      <td>...</td>\n",
       "      <td>0.517241</td>\n",
       "      <td>0.311111</td>\n",
       "      <td>0.808511</td>\n",
       "      <td>0.729412</td>\n",
       "      <td>0.790698</td>\n",
       "      <td>0.690476</td>\n",
       "      <td>0.359551</td>\n",
       "      <td>0.166667</td>\n",
       "      <td>0.190476</td>\n",
       "      <td>0.25</td>\n",
       "    </tr>\n",
       "    <tr>\n",
       "      <th>2</th>\n",
       "      <td>0.761364</td>\n",
       "      <td>0.793478</td>\n",
       "      <td>0.329545</td>\n",
       "      <td>0.813953</td>\n",
       "      <td>0.825581</td>\n",
       "      <td>0.879121</td>\n",
       "      <td>0.944444</td>\n",
       "      <td>0.966292</td>\n",
       "      <td>0.773810</td>\n",
       "      <td>0.879121</td>\n",
       "      <td>...</td>\n",
       "      <td>0.758621</td>\n",
       "      <td>0.233333</td>\n",
       "      <td>0.829787</td>\n",
       "      <td>0.800000</td>\n",
       "      <td>0.755814</td>\n",
       "      <td>0.833333</td>\n",
       "      <td>0.224719</td>\n",
       "      <td>0.273810</td>\n",
       "      <td>0.261905</td>\n",
       "      <td>0.25</td>\n",
       "    </tr>\n",
       "    <tr>\n",
       "      <th>3</th>\n",
       "      <td>0.431818</td>\n",
       "      <td>0.423913</td>\n",
       "      <td>0.602273</td>\n",
       "      <td>0.627907</td>\n",
       "      <td>0.372093</td>\n",
       "      <td>0.538462</td>\n",
       "      <td>0.411111</td>\n",
       "      <td>0.460674</td>\n",
       "      <td>0.571429</td>\n",
       "      <td>0.615385</td>\n",
       "      <td>...</td>\n",
       "      <td>0.597701</td>\n",
       "      <td>0.577778</td>\n",
       "      <td>0.308511</td>\n",
       "      <td>0.517647</td>\n",
       "      <td>0.534884</td>\n",
       "      <td>0.428571</td>\n",
       "      <td>0.584270</td>\n",
       "      <td>0.619048</td>\n",
       "      <td>0.583333</td>\n",
       "      <td>0.00</td>\n",
       "    </tr>\n",
       "    <tr>\n",
       "      <th>4</th>\n",
       "      <td>0.488636</td>\n",
       "      <td>0.369565</td>\n",
       "      <td>0.636364</td>\n",
       "      <td>0.697674</td>\n",
       "      <td>0.348837</td>\n",
       "      <td>0.648352</td>\n",
       "      <td>0.444444</td>\n",
       "      <td>0.449438</td>\n",
       "      <td>0.619048</td>\n",
       "      <td>0.670330</td>\n",
       "      <td>...</td>\n",
       "      <td>0.655172</td>\n",
       "      <td>0.611111</td>\n",
       "      <td>0.563830</td>\n",
       "      <td>0.635294</td>\n",
       "      <td>0.476744</td>\n",
       "      <td>0.547619</td>\n",
       "      <td>0.617978</td>\n",
       "      <td>0.654762</td>\n",
       "      <td>0.714286</td>\n",
       "      <td>0.00</td>\n",
       "    </tr>\n",
       "    <tr>\n",
       "      <th>...</th>\n",
       "      <td>...</td>\n",
       "      <td>...</td>\n",
       "      <td>...</td>\n",
       "      <td>...</td>\n",
       "      <td>...</td>\n",
       "      <td>...</td>\n",
       "      <td>...</td>\n",
       "      <td>...</td>\n",
       "      <td>...</td>\n",
       "      <td>...</td>\n",
       "      <td>...</td>\n",
       "      <td>...</td>\n",
       "      <td>...</td>\n",
       "      <td>...</td>\n",
       "      <td>...</td>\n",
       "      <td>...</td>\n",
       "      <td>...</td>\n",
       "      <td>...</td>\n",
       "      <td>...</td>\n",
       "      <td>...</td>\n",
       "      <td>...</td>\n",
       "    </tr>\n",
       "    <tr>\n",
       "      <th>11696</th>\n",
       "      <td>0.636364</td>\n",
       "      <td>0.228261</td>\n",
       "      <td>0.522727</td>\n",
       "      <td>0.593023</td>\n",
       "      <td>0.279070</td>\n",
       "      <td>0.571429</td>\n",
       "      <td>0.500000</td>\n",
       "      <td>0.269663</td>\n",
       "      <td>0.535714</td>\n",
       "      <td>0.593407</td>\n",
       "      <td>...</td>\n",
       "      <td>0.620690</td>\n",
       "      <td>0.600000</td>\n",
       "      <td>0.521277</td>\n",
       "      <td>0.517647</td>\n",
       "      <td>0.360465</td>\n",
       "      <td>0.404762</td>\n",
       "      <td>0.629213</td>\n",
       "      <td>0.690476</td>\n",
       "      <td>0.654762</td>\n",
       "      <td>0.00</td>\n",
       "    </tr>\n",
       "    <tr>\n",
       "      <th>11697</th>\n",
       "      <td>0.068182</td>\n",
       "      <td>0.119565</td>\n",
       "      <td>0.090909</td>\n",
       "      <td>0.244186</td>\n",
       "      <td>0.139535</td>\n",
       "      <td>0.131868</td>\n",
       "      <td>0.122222</td>\n",
       "      <td>0.157303</td>\n",
       "      <td>0.214286</td>\n",
       "      <td>0.142857</td>\n",
       "      <td>...</td>\n",
       "      <td>0.241379</td>\n",
       "      <td>0.188889</td>\n",
       "      <td>0.138298</td>\n",
       "      <td>0.058824</td>\n",
       "      <td>0.127907</td>\n",
       "      <td>0.523810</td>\n",
       "      <td>0.101124</td>\n",
       "      <td>0.119048</td>\n",
       "      <td>0.083333</td>\n",
       "      <td>0.00</td>\n",
       "    </tr>\n",
       "    <tr>\n",
       "      <th>11698</th>\n",
       "      <td>0.659091</td>\n",
       "      <td>0.684783</td>\n",
       "      <td>0.522727</td>\n",
       "      <td>0.651163</td>\n",
       "      <td>0.430233</td>\n",
       "      <td>0.725275</td>\n",
       "      <td>0.588889</td>\n",
       "      <td>0.370787</td>\n",
       "      <td>0.583333</td>\n",
       "      <td>0.681319</td>\n",
       "      <td>...</td>\n",
       "      <td>0.206897</td>\n",
       "      <td>0.222222</td>\n",
       "      <td>0.680851</td>\n",
       "      <td>0.564706</td>\n",
       "      <td>0.662791</td>\n",
       "      <td>0.547619</td>\n",
       "      <td>0.382022</td>\n",
       "      <td>0.071429</td>\n",
       "      <td>0.083333</td>\n",
       "      <td>0.00</td>\n",
       "    </tr>\n",
       "    <tr>\n",
       "      <th>11699</th>\n",
       "      <td>0.659091</td>\n",
       "      <td>0.684783</td>\n",
       "      <td>0.522727</td>\n",
       "      <td>0.755814</td>\n",
       "      <td>0.477527</td>\n",
       "      <td>0.758242</td>\n",
       "      <td>0.506865</td>\n",
       "      <td>0.651685</td>\n",
       "      <td>0.750000</td>\n",
       "      <td>0.769231</td>\n",
       "      <td>...</td>\n",
       "      <td>0.632184</td>\n",
       "      <td>0.622222</td>\n",
       "      <td>0.648936</td>\n",
       "      <td>0.534579</td>\n",
       "      <td>0.523256</td>\n",
       "      <td>0.570806</td>\n",
       "      <td>0.584270</td>\n",
       "      <td>0.619048</td>\n",
       "      <td>0.474139</td>\n",
       "      <td>0.50</td>\n",
       "    </tr>\n",
       "    <tr>\n",
       "      <th>11700</th>\n",
       "      <td>0.420455</td>\n",
       "      <td>0.663043</td>\n",
       "      <td>0.681818</td>\n",
       "      <td>0.651163</td>\n",
       "      <td>0.569767</td>\n",
       "      <td>0.648352</td>\n",
       "      <td>0.411111</td>\n",
       "      <td>0.426966</td>\n",
       "      <td>0.547619</td>\n",
       "      <td>0.648352</td>\n",
       "      <td>...</td>\n",
       "      <td>0.287356</td>\n",
       "      <td>0.166667</td>\n",
       "      <td>0.680851</td>\n",
       "      <td>0.623529</td>\n",
       "      <td>0.616279</td>\n",
       "      <td>0.523810</td>\n",
       "      <td>0.191011</td>\n",
       "      <td>0.142857</td>\n",
       "      <td>0.142857</td>\n",
       "      <td>0.00</td>\n",
       "    </tr>\n",
       "  </tbody>\n",
       "</table>\n",
       "<p>11701 rows × 27 columns</p>\n",
       "</div>"
      ],
      "text/plain": [
       "       crossing  finishing  heading_accuracy  short_passing   volleys  \\\n",
       "0      0.545455   0.478261          0.431818       0.720930  0.465116   \n",
       "1      0.681818   0.826087          0.806818       0.697674  0.837209   \n",
       "2      0.761364   0.793478          0.329545       0.813953  0.825581   \n",
       "3      0.431818   0.423913          0.602273       0.627907  0.372093   \n",
       "4      0.488636   0.369565          0.636364       0.697674  0.348837   \n",
       "...         ...        ...               ...            ...       ...   \n",
       "11696  0.636364   0.228261          0.522727       0.593023  0.279070   \n",
       "11697  0.068182   0.119565          0.090909       0.244186  0.139535   \n",
       "11698  0.659091   0.684783          0.522727       0.651163  0.430233   \n",
       "11699  0.659091   0.684783          0.522727       0.755814  0.477527   \n",
       "11700  0.420455   0.663043          0.681818       0.651163  0.569767   \n",
       "\n",
       "       dribbling     curve  fk_accuracy  long_passing  ball_control  ...  \\\n",
       "0       0.615385  0.444444     0.561798      0.642857      0.637363  ...   \n",
       "1       0.857143  0.822222     0.752809      0.642857      0.813187  ...   \n",
       "2       0.879121  0.944444     0.966292      0.773810      0.879121  ...   \n",
       "3       0.538462  0.411111     0.460674      0.571429      0.615385  ...   \n",
       "4       0.648352  0.444444     0.449438      0.619048      0.670330  ...   \n",
       "...          ...       ...          ...           ...           ...  ...   \n",
       "11696   0.571429  0.500000     0.269663      0.535714      0.593407  ...   \n",
       "11697   0.131868  0.122222     0.157303      0.214286      0.142857  ...   \n",
       "11698   0.725275  0.588889     0.370787      0.583333      0.681319  ...   \n",
       "11699   0.758242  0.506865     0.651685      0.750000      0.769231  ...   \n",
       "11700   0.648352  0.411111     0.426966      0.547619      0.648352  ...   \n",
       "\n",
       "       aggression  interceptions  positioning    vision  penalties  composure  \\\n",
       "0        0.517241       0.522222     0.638298  0.682353   0.534884   0.500000   \n",
       "1        0.517241       0.311111     0.808511  0.729412   0.790698   0.690476   \n",
       "2        0.758621       0.233333     0.829787  0.800000   0.755814   0.833333   \n",
       "3        0.597701       0.577778     0.308511  0.517647   0.534884   0.428571   \n",
       "4        0.655172       0.611111     0.563830  0.635294   0.476744   0.547619   \n",
       "...           ...            ...          ...       ...        ...        ...   \n",
       "11696    0.620690       0.600000     0.521277  0.517647   0.360465   0.404762   \n",
       "11697    0.241379       0.188889     0.138298  0.058824   0.127907   0.523810   \n",
       "11698    0.206897       0.222222     0.680851  0.564706   0.662791   0.547619   \n",
       "11699    0.632184       0.622222     0.648936  0.534579   0.523256   0.570806   \n",
       "11700    0.287356       0.166667     0.680851  0.623529   0.616279   0.523810   \n",
       "\n",
       "        marking  standing_tackle  sliding_tackle  international_reputation  \n",
       "0      0.516854         0.595238        0.440476                      0.00  \n",
       "1      0.359551         0.166667        0.190476                      0.25  \n",
       "2      0.224719         0.273810        0.261905                      0.25  \n",
       "3      0.584270         0.619048        0.583333                      0.00  \n",
       "4      0.617978         0.654762        0.714286                      0.00  \n",
       "...         ...              ...             ...                       ...  \n",
       "11696  0.629213         0.690476        0.654762                      0.00  \n",
       "11697  0.101124         0.119048        0.083333                      0.00  \n",
       "11698  0.382022         0.071429        0.083333                      0.00  \n",
       "11699  0.584270         0.619048        0.474139                      0.50  \n",
       "11700  0.191011         0.142857        0.142857                      0.00  \n",
       "\n",
       "[11701 rows x 27 columns]"
      ]
     },
     "execution_count": 19,
     "metadata": {},
     "output_type": "execute_result"
    }
   ],
   "source": [
    "tra = MinMaxScaler().fit(data_num)\n",
    "nor = tra.transform(data_num)\n",
    "\n",
    "data_nor = pd.DataFrame(nor, columns = data_num.columns)\n",
    "\n",
    "data_nor"
   ]
  },
  {
   "cell_type": "markdown",
   "metadata": {},
   "source": [
    "# Concatenate."
   ]
  },
  {
   "cell_type": "code",
   "execution_count": 20,
   "metadata": {},
   "outputs": [],
   "source": [
    "data1 = pd.concat([data_cat, data_nor], axis=1)\n",
    "# data1.describe().T\n",
    "# data1.dtypes"
   ]
  },
  {
   "cell_type": "markdown",
   "metadata": {},
   "source": [
    "# Train-Test Split."
   ]
  },
  {
   "cell_type": "code",
   "execution_count": 21,
   "metadata": {},
   "outputs": [],
   "source": [
    "X = data1\n",
    "y = data['ova']\n",
    "\n",
    "X_train, X_test, y_train, y_test = train_test_split(X, y, test_size=0.1, random_state=42)"
   ]
  },
  {
   "cell_type": "markdown",
   "metadata": {},
   "source": [
    "# Linear Regression."
   ]
  },
  {
   "cell_type": "code",
   "execution_count": 22,
   "metadata": {},
   "outputs": [
    {
     "data": {
      "text/html": [
       "<style>#sk-container-id-1 {color: black;background-color: white;}#sk-container-id-1 pre{padding: 0;}#sk-container-id-1 div.sk-toggleable {background-color: white;}#sk-container-id-1 label.sk-toggleable__label {cursor: pointer;display: block;width: 100%;margin-bottom: 0;padding: 0.3em;box-sizing: border-box;text-align: center;}#sk-container-id-1 label.sk-toggleable__label-arrow:before {content: \"▸\";float: left;margin-right: 0.25em;color: #696969;}#sk-container-id-1 label.sk-toggleable__label-arrow:hover:before {color: black;}#sk-container-id-1 div.sk-estimator:hover label.sk-toggleable__label-arrow:before {color: black;}#sk-container-id-1 div.sk-toggleable__content {max-height: 0;max-width: 0;overflow: hidden;text-align: left;background-color: #f0f8ff;}#sk-container-id-1 div.sk-toggleable__content pre {margin: 0.2em;color: black;border-radius: 0.25em;background-color: #f0f8ff;}#sk-container-id-1 input.sk-toggleable__control:checked~div.sk-toggleable__content {max-height: 200px;max-width: 100%;overflow: auto;}#sk-container-id-1 input.sk-toggleable__control:checked~label.sk-toggleable__label-arrow:before {content: \"▾\";}#sk-container-id-1 div.sk-estimator input.sk-toggleable__control:checked~label.sk-toggleable__label {background-color: #d4ebff;}#sk-container-id-1 div.sk-label input.sk-toggleable__control:checked~label.sk-toggleable__label {background-color: #d4ebff;}#sk-container-id-1 input.sk-hidden--visually {border: 0;clip: rect(1px 1px 1px 1px);clip: rect(1px, 1px, 1px, 1px);height: 1px;margin: -1px;overflow: hidden;padding: 0;position: absolute;width: 1px;}#sk-container-id-1 div.sk-estimator {font-family: monospace;background-color: #f0f8ff;border: 1px dotted black;border-radius: 0.25em;box-sizing: border-box;margin-bottom: 0.5em;}#sk-container-id-1 div.sk-estimator:hover {background-color: #d4ebff;}#sk-container-id-1 div.sk-parallel-item::after {content: \"\";width: 100%;border-bottom: 1px solid gray;flex-grow: 1;}#sk-container-id-1 div.sk-label:hover label.sk-toggleable__label {background-color: #d4ebff;}#sk-container-id-1 div.sk-serial::before {content: \"\";position: absolute;border-left: 1px solid gray;box-sizing: border-box;top: 0;bottom: 0;left: 50%;z-index: 0;}#sk-container-id-1 div.sk-serial {display: flex;flex-direction: column;align-items: center;background-color: white;padding-right: 0.2em;padding-left: 0.2em;position: relative;}#sk-container-id-1 div.sk-item {position: relative;z-index: 1;}#sk-container-id-1 div.sk-parallel {display: flex;align-items: stretch;justify-content: center;background-color: white;position: relative;}#sk-container-id-1 div.sk-item::before, #sk-container-id-1 div.sk-parallel-item::before {content: \"\";position: absolute;border-left: 1px solid gray;box-sizing: border-box;top: 0;bottom: 0;left: 50%;z-index: -1;}#sk-container-id-1 div.sk-parallel-item {display: flex;flex-direction: column;z-index: 1;position: relative;background-color: white;}#sk-container-id-1 div.sk-parallel-item:first-child::after {align-self: flex-end;width: 50%;}#sk-container-id-1 div.sk-parallel-item:last-child::after {align-self: flex-start;width: 50%;}#sk-container-id-1 div.sk-parallel-item:only-child::after {width: 0;}#sk-container-id-1 div.sk-dashed-wrapped {border: 1px dashed gray;margin: 0 0.4em 0.5em 0.4em;box-sizing: border-box;padding-bottom: 0.4em;background-color: white;}#sk-container-id-1 div.sk-label label {font-family: monospace;font-weight: bold;display: inline-block;line-height: 1.2em;}#sk-container-id-1 div.sk-label-container {text-align: center;}#sk-container-id-1 div.sk-container {/* jupyter's `normalize.less` sets `[hidden] { display: none; }` but bootstrap.min.css set `[hidden] { display: none !important; }` so we also need the `!important` here to be able to override the default hidden behavior on the sphinx rendered scikit-learn.org. See: https://github.com/scikit-learn/scikit-learn/issues/21755 */display: inline-block !important;position: relative;}#sk-container-id-1 div.sk-text-repr-fallback {display: none;}</style><div id=\"sk-container-id-1\" class=\"sk-top-container\"><div class=\"sk-text-repr-fallback\"><pre>LinearRegression()</pre><b>In a Jupyter environment, please rerun this cell to show the HTML representation or trust the notebook. <br />On GitHub, the HTML representation is unable to render, please try loading this page with nbviewer.org.</b></div><div class=\"sk-container\" hidden><div class=\"sk-item\"><div class=\"sk-estimator sk-toggleable\"><input class=\"sk-toggleable__control sk-hidden--visually\" id=\"sk-estimator-id-1\" type=\"checkbox\" checked><label for=\"sk-estimator-id-1\" class=\"sk-toggleable__label sk-toggleable__label-arrow\">LinearRegression</label><div class=\"sk-toggleable__content\"><pre>LinearRegression()</pre></div></div></div></div></div>"
      ],
      "text/plain": [
       "LinearRegression()"
      ]
     },
     "execution_count": 22,
     "metadata": {},
     "output_type": "execute_result"
    }
   ],
   "source": [
    "lm = linear_model.LinearRegression()\n",
    "lm.fit(X_train,y_train)"
   ]
  },
  {
   "cell_type": "markdown",
   "metadata": {},
   "source": [
    "# R2."
   ]
  },
  {
   "cell_type": "code",
   "execution_count": 23,
   "metadata": {},
   "outputs": [],
   "source": [
    "predictions_test = lm.predict(X_test)"
   ]
  },
  {
   "cell_type": "code",
   "execution_count": 24,
   "metadata": {},
   "outputs": [
    {
     "data": {
      "text/plain": [
       "0.8791785791464536"
      ]
     },
     "execution_count": 24,
     "metadata": {},
     "output_type": "execute_result"
    }
   ],
   "source": [
    "predictions = lm.predict(X_train)\n",
    "r2_score(y_train, predictions)"
   ]
  },
  {
   "cell_type": "code",
   "execution_count": 25,
   "metadata": {},
   "outputs": [
    {
     "data": {
      "text/plain": [
       "0.8683942542061293"
      ]
     },
     "execution_count": 25,
     "metadata": {},
     "output_type": "execute_result"
    }
   ],
   "source": [
    "r2_score(y_test, predictions_test)"
   ]
  },
  {
   "cell_type": "markdown",
   "metadata": {},
   "source": [
    "# MAE."
   ]
  },
  {
   "cell_type": "code",
   "execution_count": 26,
   "metadata": {},
   "outputs": [
    {
     "data": {
      "text/plain": [
       "1.84929078640372"
      ]
     },
     "execution_count": 26,
     "metadata": {},
     "output_type": "execute_result"
    }
   ],
   "source": [
    "mae = mean_absolute_error(y_test, predictions_test)\n",
    "mae"
   ]
  },
  {
   "cell_type": "markdown",
   "metadata": {},
   "source": [
    "# MSE."
   ]
  },
  {
   "cell_type": "code",
   "execution_count": 27,
   "metadata": {},
   "outputs": [
    {
     "data": {
      "text/plain": [
       "5.963620514621829"
      ]
     },
     "execution_count": 27,
     "metadata": {},
     "output_type": "execute_result"
    }
   ],
   "source": [
    "mse=mean_squared_error(y_test,predictions_test)\n",
    "mse"
   ]
  },
  {
   "cell_type": "markdown",
   "metadata": {},
   "source": [
    "# RMSE."
   ]
  },
  {
   "cell_type": "code",
   "execution_count": 28,
   "metadata": {},
   "outputs": [
    {
     "data": {
      "text/plain": [
       "2.44205252085655"
      ]
     },
     "execution_count": 28,
     "metadata": {},
     "output_type": "execute_result"
    }
   ],
   "source": [
    "rmse = np.sqrt(mse)\n",
    "rmse"
   ]
  },
  {
   "cell_type": "markdown",
   "metadata": {},
   "source": [
    "# Create a DEF Function."
   ]
  },
  {
   "cell_type": "code",
   "execution_count": 29,
   "metadata": {},
   "outputs": [],
   "source": [
    "def clean (df):\n",
    "\n",
    "    # Rename columns\n",
    "    df.columns = df.columns.str.lower().str.replace(' ','_')\n",
    "    df.columns = df.columns.str.lower().str.replace('/','_')\n",
    "    df = df.rename(columns={'bp':'best_position',\n",
    "                                'team_&_contract':'team_contract', \n",
    "                                'w_f':'weak_foot', 'sm': 'skill_moves', 'a_w': 'attacking_work_rate', 'd_w': 'defensive_work_rate', 'ir': 'international_reputation', 'wf': 'weak_foot' })\n",
    "    # Edit positions\n",
    "    data_pos = df.loc[:, 'ls':'gk']\n",
    "    for col in data_pos.columns:\n",
    "        data_pos[[col, col + '_right']] = data_pos[col].str.split('+', expand=True)\n",
    "    data_pos = data_pos.astype(int)\n",
    "    data_pos = data_pos.drop(data_pos.loc[:, 'ls':'gk'].columns, axis=1)\n",
    "    \n",
    "    # Edit attributes\n",
    "    data_att = df.loc[:, 'crossing':'gk_reflexes']\n",
    "    data_att = data_att.drop(['skill', 'movement', 'power', 'mentality', 'defending', 'goalkeeping'], axis=1)\n",
    "    \n",
    "    # Edit international reputation\n",
    "    icon = '★'\n",
    "    df['international_reputation'] = df['international_reputation'].str.replace(icon, '')\n",
    "    df['international_reputation'] = df['international_reputation'].str.replace(' ', '')\n",
    "    df['international_reputation'].astype('int')\n",
    "    \n",
    "    # Edit best position\n",
    "    data_cat = pd.DataFrame(df['best_position'])\n",
    "    encoder = OneHotEncoder(drop='first').fit(data_cat)\n",
    "    encoded = encoder.transform(data_cat).toarray()\n",
    "    data_cat = pd.DataFrame(encoded,columns=encoder.get_feature_names_out())\n",
    "    \n",
    "    # Fill na\n",
    "    for col in data_att.columns:\n",
    "        data_att[col] = data_att[col].fillna(data_att[col].mean())\n",
    "    \n",
    "    # Concat\n",
    "    data_num = pd.concat([data_att, data_pos, df['international_reputation']], axis=1)\n",
    "    \n",
    "    # Choose num columns\n",
    "    data_num = data_num[['crossing', 'finishing', 'heading_accuracy', 'short_passing',\n",
    "           'volleys', 'dribbling', 'curve', 'fk_accuracy', 'long_passing',\n",
    "           'ball_control', 'agility', 'reactions', 'shot_power', 'jumping',\n",
    "           'stamina', 'strength', 'long_shots', 'aggression', 'interceptions',\n",
    "           'positioning', 'vision', 'penalties', 'composure', 'marking',\n",
    "           'standing_tackle', 'sliding_tackle']]\n",
    "    \n",
    "    # Normalise\n",
    "    tra = MinMaxScaler().fit(data_num)\n",
    "    nor = tra.transform(data_num)\n",
    "    data_nor = pd.DataFrame(nor, columns = data_num.columns)\n",
    "    \n",
    "    # concatenate final\n",
    "    df = pd.concat([data_cat, data_nor], axis=1)\n",
    "    \n",
    "    return df"
   ]
  }
 ],
 "metadata": {
  "kernelspec": {
   "display_name": "base",
   "language": "python",
   "name": "python3"
  },
  "language_info": {
   "codemirror_mode": {
    "name": "ipython",
    "version": 3
   },
   "file_extension": ".py",
   "mimetype": "text/x-python",
   "name": "python",
   "nbconvert_exporter": "python",
   "pygments_lexer": "ipython3",
   "version": "3.11.3"
  },
  "orig_nbformat": 4
 },
 "nbformat": 4,
 "nbformat_minor": 2
}
